{
 "cells": [
  {
   "cell_type": "code",
   "execution_count": 1,
   "metadata": {},
   "outputs": [],
   "source": [
    "import numpy as np\n",
    "coal = '2646 3050 25335 32730 33720 34372 35132 35152 35454 35500 36675 40923 41674 41720 41932 44638 47465 48384 48406 48777 49264 50481 55076 55636 64268 64479 65455 68354 76875 81735 85174 90461 99356 100291 106092'\n",
    "pet = '167 339 504 801 909 1664 1799 3063 3354 3769 5992 14142 21166 23455 27932 28822 29695 30479 31511 33931 37802 38276 40303 42688 46519 51800 53382 55454 63981 64818'\n",
    "mineral = '28193 29120 30320 30408 30774 31931 44448 44603 46522 47468 48798 50115 51141 51316 51979 55535 81257 81616 81763 83042 89489 94124 95348 97152 99683'\n"
   ]
  },
  {
   "cell_type": "code",
   "execution_count": 2,
   "metadata": {},
   "outputs": [],
   "source": [
    "coal = coal.split(' ')\n",
    "pet = pet.split(' ')\n",
    "mineral = mineral.split(' ')"
   ]
  },
  {
   "cell_type": "code",
   "execution_count": 3,
   "metadata": {},
   "outputs": [
    {
     "data": {
      "text/plain": [
       "(35, 30, 25, 90)"
      ]
     },
     "execution_count": 3,
     "metadata": {},
     "output_type": "execute_result"
    }
   ],
   "source": [
    "len(coal), len(pet), len(mineral), len(coal) + len(pet) + len(mineral)"
   ]
  },
  {
   "cell_type": "code",
   "execution_count": 11,
   "metadata": {},
   "outputs": [],
   "source": [
    "reps = []\n",
    "reps.extend(pet)\n",
    "reps.extend(mineral)\n",
    "reps.extend(coal)"
   ]
  },
  {
   "cell_type": "code",
   "execution_count": 22,
   "metadata": {},
   "outputs": [],
   "source": [
    "reps.sort()"
   ]
  },
  {
   "cell_type": "code",
   "execution_count": 23,
   "metadata": {},
   "outputs": [
    {
     "data": {
      "text/plain": [
       "[167,\n",
       " 339,\n",
       " 504,\n",
       " 801,\n",
       " 909,\n",
       " 1664,\n",
       " 1799,\n",
       " 2646,\n",
       " 3050,\n",
       " 3063,\n",
       " 3354,\n",
       " 3769,\n",
       " 5992,\n",
       " 14142,\n",
       " 21166,\n",
       " 23455,\n",
       " 25335,\n",
       " 27932,\n",
       " 28193,\n",
       " 28822,\n",
       " 29120,\n",
       " 29695,\n",
       " 30320,\n",
       " 30408,\n",
       " 30479,\n",
       " 30774,\n",
       " 31511,\n",
       " 31931,\n",
       " 32730,\n",
       " 33720,\n",
       " 33931,\n",
       " 34372,\n",
       " 35132,\n",
       " 35152,\n",
       " 35454,\n",
       " 35500,\n",
       " 36675,\n",
       " 37802,\n",
       " 38276,\n",
       " 40303,\n",
       " 40923,\n",
       " 41674,\n",
       " 41720,\n",
       " 41932,\n",
       " 42688,\n",
       " 44448,\n",
       " 44603,\n",
       " 44638,\n",
       " 46519,\n",
       " 46522,\n",
       " 47465,\n",
       " 47468,\n",
       " 48384,\n",
       " 48406,\n",
       " 48777,\n",
       " 48798,\n",
       " 49264,\n",
       " 50115,\n",
       " 50481,\n",
       " 51141,\n",
       " 51316,\n",
       " 51800,\n",
       " 51979,\n",
       " 53382,\n",
       " 55076,\n",
       " 55454,\n",
       " 55535,\n",
       " 55636,\n",
       " 63981,\n",
       " 64268,\n",
       " 64479,\n",
       " 64818,\n",
       " 65455,\n",
       " 68354,\n",
       " 76875,\n",
       " 81257,\n",
       " 81616,\n",
       " 81735,\n",
       " 81763,\n",
       " 83042,\n",
       " 85174,\n",
       " 89489,\n",
       " 90461,\n",
       " 94124,\n",
       " 95348,\n",
       " 97152,\n",
       " 99356,\n",
       " 99683,\n",
       " 100291,\n",
       " 106092]"
      ]
     },
     "execution_count": 23,
     "metadata": {},
     "output_type": "execute_result"
    }
   ],
   "source": [
    "reps"
   ]
  },
  {
   "cell_type": "code",
   "execution_count": 20,
   "metadata": {},
   "outputs": [],
   "source": [
    "reps = [int(r) for r in set(reps)]"
   ]
  },
  {
   "cell_type": "code",
   "execution_count": null,
   "metadata": {},
   "outputs": [],
   "source": []
  }
 ],
 "metadata": {
  "kernelspec": {
   "display_name": "Python 3",
   "language": "python",
   "name": "python3"
  },
  "language_info": {
   "codemirror_mode": {
    "name": "ipython",
    "version": 3
   },
   "file_extension": ".py",
   "mimetype": "text/x-python",
   "name": "python",
   "nbconvert_exporter": "python",
   "pygments_lexer": "ipython3",
   "version": "3.6.9"
  }
 },
 "nbformat": 4,
 "nbformat_minor": 2
}
