{
 "cells": [
  {
   "cell_type": "markdown",
   "metadata": {},
   "source": [
    "# Borehole extraction demo\n",
    "\n",
    "Here's a short guide on running borehole.extraction in a few scenarios.\n",
    "\n",
    "## Initialising variables\n",
    "First, import extraction.py from the borehole package. \n",
    "\n",
    "Call extraction.init() - this initialises the lists of column and key terms which tables will be searched for. These lists are hardcoded as strings in the file, to allow for easy editing by the user, and are converted to lists during init()."
   ]
  },
  {
   "cell_type": "code",
   "execution_count": 1,
   "metadata": {},
   "outputs": [],
   "source": [
    "import sys\n",
    "sys.path.append('../')\n",
    "from borehole import extraction\n",
    "\n",
    "extraction.init()"
   ]
  },
  {
   "cell_type": "markdown",
   "metadata": {},
   "source": [
    "Before you go further, you may want to set a few variables.\n",
    "\n",
    "By default, extraction results will be saved to the value of the bhcsv_all variable, by default: 'bh_refs_all_tables.csv'. However, you can give a different filename to the extraction functions as a parameter and they'll save to that location instead."
   ]
  },
  {
   "cell_type": "code",
   "execution_count": 2,
   "metadata": {},
   "outputs": [],
   "source": [
    "result_fname= 'example_result.csv'"
   ]
  },
  {
   "cell_type": "markdown",
   "metadata": {},
   "source": [
    "By default, this program will look for source files for tables inside the value of the paths.training_file_folder variable (when training=True in function parameters), so make sure that location contains a populated tables/ folder.\n",
    "\n",
    "Next, you'll want to decide if you want to perform borehole extraction for a set list of report IDs, or for all report IDs appearing in filenames at a location. \n",
    "\n",
    "## Extracting tables from given reportIDs"
   ]
  },
  {
   "cell_type": "markdown",
   "metadata": {},
   "source": [
    "If you're extracting for a specific set of report IDs, define that set as a list of strings, for example:"
   ]
  },
  {
   "cell_type": "code",
   "execution_count": 3,
   "metadata": {},
   "outputs": [
    {
     "data": {
      "text/plain": [
       "['25335',\n",
       " '34372',\n",
       " '35500',\n",
       " '36675',\n",
       " '40923',\n",
       " '41674',\n",
       " '41720',\n",
       " '41932',\n",
       " '44638',\n",
       " '48384',\n",
       " '48406']"
      ]
     },
     "execution_count": 3,
     "metadata": {},
     "output_type": "execute_result"
    }
   ],
   "source": [
    "reports_str = '25335 34372 35500 36675 40923 41674 41720 41932 44638 48384 48406'\n",
    "reportIDs = reports_str.split()\n",
    "reportIDs"
   ]
  },
  {
   "cell_type": "markdown",
   "metadata": {},
   "source": [
    "And run extraction:"
   ]
  },
  {
   "cell_type": "code",
   "execution_count": 4,
   "metadata": {},
   "outputs": [
    {
     "name": "stdout",
     "output_type": "stream",
     "text": [
      "Borehole extraction for  25335  saved to  example_result.csv\n",
      "Borehole extraction for  34372  saved to  example_result.csv\n",
      "Borehole extraction for  35500  saved to  example_result.csv\n",
      "Borehole extraction for  36675  saved to  example_result.csv\n",
      "Borehole extraction for  40923  saved to  example_result.csv\n",
      "Borehole extraction for  41674  saved to  example_result.csv\n",
      "Borehole extraction for  41720  saved to  example_result.csv\n",
      "Borehole extraction for  41932  saved to  example_result.csv\n",
      "Borehole extraction for  44638  saved to  example_result.csv\n",
      "Borehole extraction for  48384  saved to  example_result.csv\n",
      "Borehole extraction for  48406  saved to  example_result.csv\n"
     ]
    }
   ],
   "source": [
    "for e in reportIDs:\n",
    "    extraction.extract_bh(e, fname=result_fname)"
   ]
  },
  {
   "cell_type": "markdown",
   "metadata": {},
   "source": [
    "Finish up by running manage_data(result_fname) to clean up the saved file from duplicates."
   ]
  },
  {
   "cell_type": "code",
   "execution_count": 6,
   "metadata": {},
   "outputs": [],
   "source": [
    "extraction.manage_data(result_fname)"
   ]
  },
  {
   "cell_type": "markdown",
   "metadata": {},
   "source": [
    "And here's what the extraction file looks like:"
   ]
  },
  {
   "cell_type": "code",
   "execution_count": 10,
   "metadata": {
    "scrolled": true
   },
   "outputs": [
    {
     "data": {
      "text/html": [
       "<div>\n",
       "<style scoped>\n",
       "    .dataframe tbody tr th:only-of-type {\n",
       "        vertical-align: middle;\n",
       "    }\n",
       "\n",
       "    .dataframe tbody tr th {\n",
       "        vertical-align: top;\n",
       "    }\n",
       "\n",
       "    .dataframe thead th {\n",
       "        text-align: right;\n",
       "    }\n",
       "</style>\n",
       "<table border=\"1\" class=\"dataframe\">\n",
       "  <thead>\n",
       "    <tr style=\"text-align: right;\">\n",
       "      <th></th>\n",
       "      <th>DocID</th>\n",
       "      <th>File</th>\n",
       "      <th>BH</th>\n",
       "      <th>grid_loc_1</th>\n",
       "      <th>grid_loc_2</th>\n",
       "      <th>geo_loc_1</th>\n",
       "      <th>geo_loc_2</th>\n",
       "      <th>BH source</th>\n",
       "      <th>grid_loc_1 source</th>\n",
       "      <th>grid_loc_2 source</th>\n",
       "      <th>geo_loc_1 source</th>\n",
       "      <th>geo_loc_2 source</th>\n",
       "    </tr>\n",
       "  </thead>\n",
       "  <tbody>\n",
       "    <tr>\n",
       "      <th>0</th>\n",
       "      <td>25335</td>\n",
       "      <td>105</td>\n",
       "      <td>NaN</td>\n",
       "      <td>NaN</td>\n",
       "      <td>NaN</td>\n",
       "      <td>NaN</td>\n",
       "      <td>NaN</td>\n",
       "      <td>Hole</td>\n",
       "      <td>NaN</td>\n",
       "      <td>NaN</td>\n",
       "      <td>NaN</td>\n",
       "      <td>NaN</td>\n",
       "    </tr>\n",
       "    <tr>\n",
       "      <th>1</th>\n",
       "      <td>25335</td>\n",
       "      <td>25</td>\n",
       "      <td>NaN</td>\n",
       "      <td>NaN</td>\n",
       "      <td>NaN</td>\n",
       "      <td>NaN</td>\n",
       "      <td>NaN</td>\n",
       "      <td>Hole No.</td>\n",
       "      <td>NaN</td>\n",
       "      <td>NaN</td>\n",
       "      <td>NaN</td>\n",
       "      <td>NaN</td>\n",
       "    </tr>\n",
       "    <tr>\n",
       "      <th>2</th>\n",
       "      <td>25335</td>\n",
       "      <td>296</td>\n",
       "      <td>25 3</td>\n",
       "      <td>NaN</td>\n",
       "      <td>NaN</td>\n",
       "      <td>NaN</td>\n",
       "      <td>NaN</td>\n",
       "      <td>HOLE</td>\n",
       "      <td>NaN</td>\n",
       "      <td>NaN</td>\n",
       "      <td>NaN</td>\n",
       "      <td>NaN</td>\n",
       "    </tr>\n",
       "    <tr>\n",
       "      <th>3</th>\n",
       "      <td>25335</td>\n",
       "      <td>2</td>\n",
       "      <td>M 670</td>\n",
       "      <td>NaN</td>\n",
       "      <td>NaN</td>\n",
       "      <td>NaN</td>\n",
       "      <td>NaN</td>\n",
       "      <td>Hole</td>\n",
       "      <td>NaN</td>\n",
       "      <td>NaN</td>\n",
       "      <td>NaN</td>\n",
       "      <td>NaN</td>\n",
       "    </tr>\n",
       "    <tr>\n",
       "      <th>4</th>\n",
       "      <td>25335</td>\n",
       "      <td>2</td>\n",
       "      <td>M 1673</td>\n",
       "      <td>NaN</td>\n",
       "      <td>NaN</td>\n",
       "      <td>NaN</td>\n",
       "      <td>NaN</td>\n",
       "      <td>Hole</td>\n",
       "      <td>NaN</td>\n",
       "      <td>NaN</td>\n",
       "      <td>NaN</td>\n",
       "      <td>NaN</td>\n",
       "    </tr>\n",
       "  </tbody>\n",
       "</table>\n",
       "</div>"
      ],
      "text/plain": [
       "   DocID  File       BH grid_loc_1  grid_loc_2 geo_loc_1 geo_loc_2  BH source  \\\n",
       "0  25335   105      NaN        NaN         NaN       NaN       NaN      Hole    \n",
       "1  25335    25      NaN        NaN         NaN       NaN       NaN  Hole No.    \n",
       "2  25335   296    25 3         NaN         NaN       NaN       NaN      HOLE    \n",
       "3  25335     2   M 670         NaN         NaN       NaN       NaN      Hole    \n",
       "4  25335     2  M 1673         NaN         NaN       NaN       NaN      Hole    \n",
       "\n",
       "  grid_loc_1 source grid_loc_2 source geo_loc_1 source geo_loc_2 source  \n",
       "0               NaN               NaN              NaN              NaN  \n",
       "1               NaN               NaN              NaN              NaN  \n",
       "2               NaN               NaN              NaN              NaN  \n",
       "3               NaN               NaN              NaN              NaN  \n",
       "4               NaN               NaN              NaN              NaN  "
      ]
     },
     "execution_count": 10,
     "metadata": {},
     "output_type": "execute_result"
    }
   ],
   "source": [
    "import pandas as pd\n",
    "df = pd.read_csv(result_fname)\n",
    "df.head()"
   ]
  },
  {
   "cell_type": "markdown",
   "metadata": {},
   "source": [
    "## Extracting tables from all tables in your trainingFiles\n",
    "\n",
    "This is the simplest in terms of running - just run extract_for_all_docids() - init() and manage_data() come included in it.\n",
    "\n",
    "And that's it for simple execution. There's more playing around you can do, in terms of managing the source location of your table files(with training=False, and/or setting extrafolder), if you'd like the table files to be used to be those already predicted to contain boreholes (with bh=True)(see borehole.tables for that process), and of course editing the column and key borehole and location terms that are searched for."
   ]
  }
 ],
 "metadata": {
  "kernelspec": {
   "display_name": "Python 3",
   "language": "python",
   "name": "python3"
  },
  "language_info": {
   "codemirror_mode": {
    "name": "ipython",
    "version": 3
   },
   "file_extension": ".py",
   "mimetype": "text/x-python",
   "name": "python",
   "nbconvert_exporter": "python",
   "pygments_lexer": "ipython3",
   "version": "3.6.9"
  }
 },
 "nbformat": 4,
 "nbformat_minor": 2
}
