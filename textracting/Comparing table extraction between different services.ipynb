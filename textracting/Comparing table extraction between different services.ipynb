{
 "cells": [
  {
   "cell_type": "markdown",
   "metadata": {},
   "source": [
    "## Comparing table extraction between different services\n",
    "\n",
    "Compare Textract tables vs MS Word tables for the same reports.\n",
    "\n",
    "1. Load textract tables"
   ]
  },
  {
   "cell_type": "code",
   "execution_count": 1,
   "metadata": {},
   "outputs": [],
   "source": [
    "from borehole_tables import get_tables, save_tables\n",
    "from settings import get_tables_file\n",
    "import pandas as pd\n",
    "\n",
    "docs_path = 'C:/Users/andraszeka/OneDrive - ITP (Queensland Government)/textract_result/qutsample'\n",
    "#docid = '2646'\n",
    "extrafolder='qutsample'\n",
    "#tables = get_tables(docid, training=False, extrafolder=extrafolder)\n",
    "path = 'C:\\\\Users\\\\andraszeka\\OneDrive - ITP (Queensland Government)\\\\textract_result\\\\qutsample\\\\wondershare\\\\texts'\n",
    "ocrservice = 'wondershare'\n"
   ]
  },
  {
   "cell_type": "markdown",
   "metadata": {},
   "source": [
    "2. Load MS Word tables and save to file"
   ]
  },
  {
   "cell_type": "code",
   "execution_count": 2,
   "metadata": {},
   "outputs": [],
   "source": [
    "import glob \n",
    "\n",
    "def get_ids_from_path(path, ftype):\n",
    "    if 'docx' in ftype:\n",
    "        glpath = path + '/*/*.' + ftype\n",
    "    else:\n",
    "        glpath = path + '/*.' + ftype\n",
    "\n",
    "    ws_files = glob.glob(glpath)\n",
    "    fls = []\n",
    "    for f in ws_files:\n",
    "        file = f.split('\\\\')[-1].replace('.'+ftype, '')\n",
    "        if 'json' in ftype:\n",
    "            file = file.replace('cr_', '').replace('_fulljson', '')\n",
    "\n",
    "        #print(file)\n",
    "        try:\n",
    "            docid, file_num = file.split('_')\n",
    "        except:\n",
    "            continue\n",
    "        docid = docid.lower()\n",
    "        if docid.islower(): # some files are actually char-based, not docid, don't add these\n",
    "            continue \n",
    "        fls.append([docid, file_num])\n",
    "        #print(docid, ' ', file_num)\n",
    "    return fls\n"
   ]
  },
  {
   "cell_type": "code",
   "execution_count": 3,
   "metadata": {},
   "outputs": [],
   "source": [
    "ws_ids = get_ids_from_path(path, 'docx')\n",
    "ts_ids = get_ids_from_path('C:/Users/andraszeka/OneDrive - ITP (Queensland Government)/textract_result/qutsample/textract/fulljson', 'json')\n"
   ]
  },
  {
   "cell_type": "code",
   "execution_count": 4,
   "metadata": {},
   "outputs": [],
   "source": [
    "def get_word_file(docid, file_num, service):\n",
    "    base_path = path = 'C:\\\\Users\\\\andraszeka\\OneDrive - ITP (Queensland Government)\\\\textract_result\\\\qutsample'\n",
    "    id_path = base_path + '/' + service + '/texts/' + str(docid) +'/'\n",
    "    fname = str(docid) + '_' + str(pad_num(file_num)) + '.docx'\n",
    "    return id_path + fname"
   ]
  },
  {
   "cell_type": "code",
   "execution_count": 5,
   "metadata": {},
   "outputs": [],
   "source": [
    "def pad_num(num):\n",
    "    if len(str(num)) == 2:\n",
    "        num = '0' + str(num)\n",
    "    elif len(str(num)) == 1:\n",
    "        num = '00' + str(num)\n",
    "    return num"
   ]
  },
  {
   "cell_type": "markdown",
   "metadata": {},
   "source": [
    "Extract MS Word tables and save them to csv."
   ]
  },
  {
   "cell_type": "code",
   "execution_count": 6,
   "metadata": {},
   "outputs": [
    {
     "name": "stdout",
     "output_type": "stream",
     "text": [
      "29695   026\n"
     ]
    }
   ],
   "source": [
    "from docx import Document\n",
    "\n",
    "for i in ws_ids:\n",
    "    docid, filenum = i[0], i[1]\n",
    "    try:\n",
    "        wordDoc = Document(get_word_file(docid, filenum, ocrservice))\n",
    "    except: #BadZipFile as e: #: BadZipFile: Bad CRC-32 for file 'word/media/image39.jpeg'\n",
    "        #print(e)\n",
    "        print(docid, ' ', filenum)\n",
    "        continue\n",
    "    tables = []\n",
    "    for table in wordDoc.tables:\n",
    "        df = [['' for i in range(len(table.columns))] for j in range(len(table.rows))]\n",
    "        for i, row in enumerate(table.rows):\n",
    "            for j, cell in enumerate(row.cells):\n",
    "                if cell.text:\n",
    "                    df[i][j] = cell.text\n",
    "        tables.append(pd.DataFrame(df))\n",
    "    \n",
    "    folder = extrafolder + '/' + ocrservice\n",
    "    tablefile = get_tables_file(docid, file_num=filenum, training=False, extrafolder=folder)\n",
    "    save_tables(tables, tablefile, encoding=\"utf-8\", header=False)\n",
    "    "
   ]
  },
  {
   "cell_type": "code",
   "execution_count": 6,
   "metadata": {},
   "outputs": [],
   "source": [
    "intersect = []\n",
    "for i in ws_ids:\n",
    "    for j in ts_ids:\n",
    "        if i[0] == j[0]:\n",
    "            if i[1] == pad_num(j[1]):\n",
    "                intersect.append(j)"
   ]
  },
  {
   "cell_type": "code",
   "execution_count": 7,
   "metadata": {},
   "outputs": [
    {
     "data": {
      "text/plain": [
       "(212, 296, 661)"
      ]
     },
     "execution_count": 7,
     "metadata": {},
     "output_type": "execute_result"
    }
   ],
   "source": [
    "len(intersect), len(ts_ids), len(ws_ids)"
   ]
  },
  {
   "cell_type": "code",
   "execution_count": 8,
   "metadata": {},
   "outputs": [
    {
     "name": "stdout",
     "output_type": "stream",
     "text": [
      "[['14142', '1'], ['14142', '2'], ['14142', '3'], ['14142', '4'], ['14142', '5'], ['14142', '6'], ['14142', '7'], ['14142', '8'], ['14142', '9'], ['14142', '10'], ['14142', '11'], ['14142', '12'], ['14142', '13'], ['14142', '14'], ['14142', '15'], ['14142', '19'], ['14142', '22'], ['14142', '23'], ['14142', '25'], ['14142', '39'], ['1664', '1'], ['1664', '2'], ['1664', '3'], ['1664', '4'], ['1664', '5'], ['1664', '6'], ['1664', '7'], ['1664', '8'], ['1664', '9'], ['1664', '10'], ['1664', '11'], ['1664', '12'], ['1664', '13'], ['1664', '14'], ['1664', '15'], ['1664', '16'], ['1664', '17'], ['1664', '18'], ['1664', '19'], ['1664', '20'], ['1664', '21'], ['1664', '23'], ['1664', '25'], ['1664', '27'], ['167', '1'], ['167', '2'], ['1799', '1'], ['1799', '2'], ['1799', '3'], ['1799', '4'], ['1799', '5'], ['1799', '6'], ['1799', '7'], ['1799', '8'], ['1799', '9'], ['1799', '10'], ['1799', '16'], ['1799', '18'], ['1799', '20'], ['1799', '21'], ['1799', '23'], ['1799', '29'], ['21166', '1'], ['21166', '2'], ['21166', '3'], ['21166', '4'], ['21166', '5'], ['21166', '6'], ['21166', '7'], ['21166', '15'], ['23455', '1'], ['23455', '2'], ['23455', '3'], ['23455', '4'], ['23455', '5'], ['23455', '8'], ['23455', '10'], ['23455', '11'], ['23455', '12'], ['23455', '13'], ['23455', '14'], ['23455', '15'], ['23455', '16'], ['23455', '17'], ['23455', '18'], ['23455', '19'], ['23455', '20'], ['23455', '21'], ['23455', '22'], ['23455', '23'], ['23455', '24'], ['27932', '1'], ['27932', '2'], ['27932', '3'], ['27932', '4'], ['27932', '5'], ['27932', '14'], ['27932', '18'], ['28822', '1'], ['28822', '2'], ['28822', '4'], ['28822', '5'], ['28822', '6'], ['28822', '7'], ['28822', '8'], ['28822', '9'], ['28822', '10'], ['28822', '11'], ['28822', '12'], ['28822', '15'], ['28822', '16'], ['28822', '18'], ['29695', '1'], ['29695', '4'], ['29695', '5'], ['29695', '16'], ['29695', '22'], ['29695', '23'], ['29695', '24'], ['29695', '25'], ['29695', '26'], ['30479', '1'], ['30479', '2'], ['30479', '3'], ['30479', '4'], ['30479', '5'], ['30479', '6'], ['30479', '7'], ['30479', '8'], ['30479', '9'], ['30479', '15'], ['31511', '1'], ['3354', '1'], ['3354', '2'], ['3354', '3'], ['3354', '4'], ['3354', '5'], ['3354', '6'], ['3354', '7'], ['3354', '8'], ['3354', '11'], ['3354', '12'], ['3354', '14'], ['3354', '17'], ['33931', '1'], ['33931', '4'], ['33931', '7'], ['33931', '8'], ['33931', '9'], ['33931', '10'], ['33931', '11'], ['3769', '1'], ['3769', '2'], ['3769', '3'], ['3769', '4'], ['3769', '5'], ['3769', '6'], ['3769', '7'], ['3769', '8'], ['3769', '9'], ['3769', '10'], ['3769', '11'], ['3769', '12'], ['3769', '13'], ['3769', '16'], ['3769', '21'], ['37802', '1'], ['42688', '1'], ['42688', '2'], ['46519', '1'], ['46519', '2'], ['46519', '3'], ['46519', '4'], ['46519', '5'], ['46519', '6'], ['504', '1'], ['504', '2'], ['504', '3'], ['504', '4'], ['504', '5'], ['504', '6'], ['504', '8'], ['504', '9'], ['504', '10'], ['504', '11'], ['504', '12'], ['504', '14'], ['504', '15'], ['51800', '2'], ['53382', '1'], ['53382', '2'], ['5992', '1'], ['5992', '2'], ['5992', '3'], ['5992', '4'], ['5992', '5'], ['5992', '6'], ['5992', '9'], ['63981', '1'], ['63981', '3'], ['63981', '5'], ['63981', '6'], ['64818', '1'], ['64818', '3'], ['64818', '4'], ['801', '1'], ['801', '2'], ['801', '3'], ['801', '4'], ['801', '6'], ['801', '7'], ['801', '8']]\n"
     ]
    }
   ],
   "source": [
    "print(intersect)"
   ]
  },
  {
   "cell_type": "markdown",
   "metadata": {},
   "source": [
    "3. Compare the tables from the three services for: same table amount, etc, and save results"
   ]
  },
  {
   "cell_type": "code",
   "execution_count": 7,
   "metadata": {
    "scrolled": false
   },
   "outputs": [
    {
     "name": "stdout",
     "output_type": "stream",
     "text": [
      "C:\\Users\\andraszeka\\OneDrive - ITP (Queensland Government)\\textract_result/qutsample/wondershare/tables/cr_14142_012_tables.csv\n",
      "C:\\Users\\andraszeka\\OneDrive - ITP (Queensland Government)\\textract_result/qutsample/wondershare/tables/cr_14142_022_tables.csv\n",
      "C:\\Users\\andraszeka\\OneDrive - ITP (Queensland Government)\\textract_result/qutsample/wondershare/tables/cr_14142_025_tables.csv\n",
      "C:\\Users\\andraszeka\\OneDrive - ITP (Queensland Government)\\textract_result/qutsample/wondershare/tables/cr_14142_039_tables.csv\n",
      "C:\\Users\\andraszeka\\OneDrive - ITP (Queensland Government)\\textract_result/qutsample/wondershare/tables/cr_1664_001_tables.csv\n",
      "C:\\Users\\andraszeka\\OneDrive - ITP (Queensland Government)\\textract_result/qutsample/wondershare/tables/cr_1664_002_tables.csv\n",
      "C:\\Users\\andraszeka\\OneDrive - ITP (Queensland Government)\\textract_result/qutsample/wondershare/tables/cr_1664_004_tables.csv\n",
      "C:\\Users\\andraszeka\\OneDrive - ITP (Queensland Government)\\textract_result/qutsample/wondershare/tables/cr_1664_008_tables.csv\n",
      "C:\\Users\\andraszeka\\OneDrive - ITP (Queensland Government)\\textract_result/qutsample/wondershare/tables/cr_1664_009_tables.csv\n",
      "C:\\Users\\andraszeka\\OneDrive - ITP (Queensland Government)\\textract_result/qutsample/wondershare/tables/cr_1664_017_tables.csv\n",
      "C:\\Users\\andraszeka\\OneDrive - ITP (Queensland Government)\\textract_result/qutsample/wondershare/tables/cr_1664_020_tables.csv\n",
      "C:\\Users\\andraszeka\\OneDrive - ITP (Queensland Government)\\textract_result/qutsample/wondershare/tables/cr_1664_021_tables.csv\n",
      "C:\\Users\\andraszeka\\OneDrive - ITP (Queensland Government)\\textract_result/qutsample/wondershare/tables/cr_1664_023_tables.csv\n",
      "C:\\Users\\andraszeka\\OneDrive - ITP (Queensland Government)\\textract_result/qutsample/wondershare/tables/cr_1664_025_tables.csv\n",
      "C:\\Users\\andraszeka\\OneDrive - ITP (Queensland Government)\\textract_result/qutsample/wondershare/tables/cr_1664_027_tables.csv\n",
      "C:\\Users\\andraszeka\\OneDrive - ITP (Queensland Government)\\textract_result/qutsample/wondershare/tables/cr_1799_002_tables.csv\n",
      "C:\\Users\\andraszeka\\OneDrive - ITP (Queensland Government)\\textract_result/qutsample/wondershare/tables/cr_1799_008_tables.csv\n",
      "C:\\Users\\andraszeka\\OneDrive - ITP (Queensland Government)\\textract_result/qutsample/wondershare/tables/cr_1799_018_tables.csv\n",
      "C:\\Users\\andraszeka\\OneDrive - ITP (Queensland Government)\\textract_result/qutsample/wondershare/tables/cr_1799_021_tables.csv\n",
      "C:\\Users\\andraszeka\\OneDrive - ITP (Queensland Government)\\textract_result/qutsample/wondershare/tables/cr_1799_029_tables.csv\n",
      "C:\\Users\\andraszeka\\OneDrive - ITP (Queensland Government)\\textract_result/qutsample/wondershare/tables/cr_21166_005_tables.csv\n",
      "C:\\Users\\andraszeka\\OneDrive - ITP (Queensland Government)\\textract_result/qutsample/wondershare/tables/cr_21166_015_tables.csv\n",
      "C:\\Users\\andraszeka\\OneDrive - ITP (Queensland Government)\\textract_result/qutsample/wondershare/tables/cr_23455_003_tables.csv\n",
      "C:\\Users\\andraszeka\\OneDrive - ITP (Queensland Government)\\textract_result/qutsample/wondershare/tables/cr_23455_008_tables.csv\n",
      "C:\\Users\\andraszeka\\OneDrive - ITP (Queensland Government)\\textract_result/qutsample/wondershare/tables/cr_23455_010_tables.csv\n",
      "C:\\Users\\andraszeka\\OneDrive - ITP (Queensland Government)\\textract_result/qutsample/wondershare/tables/cr_23455_020_tables.csv\n",
      "C:\\Users\\andraszeka\\OneDrive - ITP (Queensland Government)\\textract_result/qutsample/wondershare/tables/cr_27932_003_tables.csv\n",
      "C:\\Users\\andraszeka\\OneDrive - ITP (Queensland Government)\\textract_result/qutsample/wondershare/tables/cr_27932_004_tables.csv\n",
      "C:\\Users\\andraszeka\\OneDrive - ITP (Queensland Government)\\textract_result/qutsample/wondershare/tables/cr_27932_005_tables.csv\n",
      "C:\\Users\\andraszeka\\OneDrive - ITP (Queensland Government)\\textract_result/qutsample/wondershare/tables/cr_27932_014_tables.csv\n",
      "C:\\Users\\andraszeka\\OneDrive - ITP (Queensland Government)\\textract_result/qutsample/wondershare/tables/cr_28822_016_tables.csv\n",
      "C:\\Users\\andraszeka\\OneDrive - ITP (Queensland Government)\\textract_result/qutsample/wondershare/tables/cr_28822_018_tables.csv\n",
      "C:\\Users\\andraszeka\\OneDrive - ITP (Queensland Government)\\textract_result/qutsample/wondershare/tables/cr_29695_004_tables.csv\n",
      "C:\\Users\\andraszeka\\OneDrive - ITP (Queensland Government)\\textract_result/qutsample/wondershare/tables/cr_29695_026_tables.csv\n",
      "C:\\Users\\andraszeka\\OneDrive - ITP (Queensland Government)\\textract_result/qutsample/wondershare/tables/cr_30479_002_tables.csv\n",
      "C:\\Users\\andraszeka\\OneDrive - ITP (Queensland Government)\\textract_result/qutsample/wondershare/tables/cr_30479_003_tables.csv\n",
      "C:\\Users\\andraszeka\\OneDrive - ITP (Queensland Government)\\textract_result/qutsample/wondershare/tables/cr_30479_004_tables.csv\n",
      "C:\\Users\\andraszeka\\OneDrive - ITP (Queensland Government)\\textract_result/qutsample/wondershare/tables/cr_30479_006_tables.csv\n",
      "C:\\Users\\andraszeka\\OneDrive - ITP (Queensland Government)\\textract_result/qutsample/wondershare/tables/cr_30479_008_tables.csv\n",
      "C:\\Users\\andraszeka\\OneDrive - ITP (Queensland Government)\\textract_result/qutsample/wondershare/tables/cr_30479_015_tables.csv\n",
      "C:\\Users\\andraszeka\\OneDrive - ITP (Queensland Government)\\textract_result/qutsample/wondershare/tables/cr_3354_003_tables.csv\n",
      "C:\\Users\\andraszeka\\OneDrive - ITP (Queensland Government)\\textract_result/qutsample/wondershare/tables/cr_3354_011_tables.csv\n",
      "C:\\Users\\andraszeka\\OneDrive - ITP (Queensland Government)\\textract_result/qutsample/wondershare/tables/cr_3354_014_tables.csv\n",
      "C:\\Users\\andraszeka\\OneDrive - ITP (Queensland Government)\\textract_result/qutsample/wondershare/tables/cr_3354_017_tables.csv\n",
      "C:\\Users\\andraszeka\\OneDrive - ITP (Queensland Government)\\textract_result/qutsample/wondershare/tables/cr_33931_004_tables.csv\n",
      "C:\\Users\\andraszeka\\OneDrive - ITP (Queensland Government)\\textract_result/qutsample/wondershare/tables/cr_33931_007_tables.csv\n",
      "C:\\Users\\andraszeka\\OneDrive - ITP (Queensland Government)\\textract_result/qutsample/wondershare/tables/cr_33931_009_tables.csv\n",
      "C:\\Users\\andraszeka\\OneDrive - ITP (Queensland Government)\\textract_result/qutsample/wondershare/tables/cr_33931_011_tables.csv\n",
      "C:\\Users\\andraszeka\\OneDrive - ITP (Queensland Government)\\textract_result/qutsample/wondershare/tables/cr_3769_002_tables.csv\n",
      "C:\\Users\\andraszeka\\OneDrive - ITP (Queensland Government)\\textract_result/qutsample/wondershare/tables/cr_3769_005_tables.csv\n",
      "C:\\Users\\andraszeka\\OneDrive - ITP (Queensland Government)\\textract_result/qutsample/wondershare/tables/cr_3769_006_tables.csv\n",
      "C:\\Users\\andraszeka\\OneDrive - ITP (Queensland Government)\\textract_result/qutsample/wondershare/tables/cr_3769_007_tables.csv\n",
      "C:\\Users\\andraszeka\\OneDrive - ITP (Queensland Government)\\textract_result/qutsample/wondershare/tables/cr_3769_009_tables.csv\n",
      "C:\\Users\\andraszeka\\OneDrive - ITP (Queensland Government)\\textract_result/qutsample/wondershare/tables/cr_3769_011_tables.csv\n",
      "C:\\Users\\andraszeka\\OneDrive - ITP (Queensland Government)\\textract_result/qutsample/wondershare/tables/cr_3769_013_tables.csv\n",
      "C:\\Users\\andraszeka\\OneDrive - ITP (Queensland Government)\\textract_result/qutsample/wondershare/tables/cr_3769_021_tables.csv\n",
      "C:\\Users\\andraszeka\\OneDrive - ITP (Queensland Government)\\textract_result/qutsample/wondershare/tables/cr_42688_002_tables.csv\n",
      "C:\\Users\\andraszeka\\OneDrive - ITP (Queensland Government)\\textract_result/qutsample/wondershare/tables/cr_46519_003_tables.csv\n",
      "C:\\Users\\andraszeka\\OneDrive - ITP (Queensland Government)\\textract_result/qutsample/wondershare/tables/cr_46519_005_tables.csv\n",
      "C:\\Users\\andraszeka\\OneDrive - ITP (Queensland Government)\\textract_result/qutsample/wondershare/tables/cr_46519_006_tables.csv\n",
      "C:\\Users\\andraszeka\\OneDrive - ITP (Queensland Government)\\textract_result/qutsample/wondershare/tables/cr_504_002_tables.csv\n",
      "C:\\Users\\andraszeka\\OneDrive - ITP (Queensland Government)\\textract_result/qutsample/wondershare/tables/cr_504_006_tables.csv\n",
      "C:\\Users\\andraszeka\\OneDrive - ITP (Queensland Government)\\textract_result/qutsample/wondershare/tables/cr_504_008_tables.csv\n",
      "C:\\Users\\andraszeka\\OneDrive - ITP (Queensland Government)\\textract_result/qutsample/wondershare/tables/cr_504_011_tables.csv\n",
      "C:\\Users\\andraszeka\\OneDrive - ITP (Queensland Government)\\textract_result/qutsample/wondershare/tables/cr_504_014_tables.csv\n",
      "C:\\Users\\andraszeka\\OneDrive - ITP (Queensland Government)\\textract_result/qutsample/wondershare/tables/cr_51800_002_tables.csv\n"
     ]
    },
    {
     "name": "stdout",
     "output_type": "stream",
     "text": [
      "C:\\Users\\andraszeka\\OneDrive - ITP (Queensland Government)\\textract_result/qutsample/wondershare/tables/cr_53382_002_tables.csv\n",
      "C:\\Users\\andraszeka\\OneDrive - ITP (Queensland Government)\\textract_result/qutsample/wondershare/tables/cr_5992_004_tables.csv\n",
      "C:\\Users\\andraszeka\\OneDrive - ITP (Queensland Government)\\textract_result/qutsample/wondershare/tables/cr_5992_005_tables.csv\n",
      "C:\\Users\\andraszeka\\OneDrive - ITP (Queensland Government)\\textract_result/qutsample/wondershare/tables/cr_5992_009_tables.csv\n",
      "C:\\Users\\andraszeka\\OneDrive - ITP (Queensland Government)\\textract_result/qutsample/wondershare/tables/cr_63981_005_tables.csv\n",
      "C:\\Users\\andraszeka\\OneDrive - ITP (Queensland Government)\\textract_result/qutsample/wondershare/tables/cr_801_002_tables.csv\n",
      "C:\\Users\\andraszeka\\OneDrive - ITP (Queensland Government)\\textract_result/qutsample/wondershare/tables/cr_801_003_tables.csv\n",
      "C:\\Users\\andraszeka\\OneDrive - ITP (Queensland Government)\\textract_result/qutsample/wondershare/tables/cr_801_006_tables.csv\n"
     ]
    }
   ],
   "source": [
    "# for each file in intersect, try to get the ts and ws table file\n",
    "# if doesn't exist, note '0' tables\n",
    "# if does, get tables out and count the number of tables\n",
    "# save results to csv\n",
    "\n",
    "cols = ['DocID', 'FileNum', 'TXTables', 'WSTables']\n",
    "\n",
    "for i in intersect:\n",
    "    ws_tables = None\n",
    "    tx_tables = None\n",
    "    num_ws = 0\n",
    "    num_tx = 0\n",
    "    \n",
    "    docid, filenum = i[0], i[1]\n",
    "    \n",
    "    # first try getting ws tables\n",
    "    ws_folder = extrafolder + '/' + ocrservice\n",
    "    tx_folder = extrafolder + '/textract'\n",
    "    try:\n",
    "        ws_tables = get_tables(docid, report_num=pad_num(filenum), training=False, extrafolder=ws_folder, sep=',')\n",
    "    except FileNotFoundError:\n",
    "        pass\n",
    "    \n",
    "    try:\n",
    "        tx_tables = get_tables(docid, report_num=filenum, training=False, extrafolder=tx_folder, sep='`')\n",
    "    except FileNotFoundError:\n",
    "        pass\n",
    "    \n",
    "    if ws_tables:\n",
    "        num_ws = len(ws_tables)\n",
    "    if tx_tables:\n",
    "        num_tx = len(tx_tables)\n",
    "    \n",
    "    \n",
    "    data = [docid, filenum, num_tx, num_ws]\n",
    "    sr = pd.Series(data)\n",
    "    \n",
    "    df = pd.DataFrame(sr).T\n",
    "\n",
    "    with open('tables_comp.csv', 'a', newline='') as f:\n",
    "        df.to_csv(f, index=False, header=False)"
   ]
  },
  {
   "cell_type": "code",
   "execution_count": 53,
   "metadata": {},
   "outputs": [
    {
     "data": {
      "text/plain": [
       "'C:\\\\Users\\\\andraszeka\\\\OneDrive - ITP (Queensland Government)\\\\textract_result\\\\qutsample/wondershare/texts/2347/2347_001.docx'"
      ]
     },
     "execution_count": 53,
     "metadata": {},
     "output_type": "execute_result"
    }
   ],
   "source": [
    "get_word_file('2347', '1', 'wondershare')"
   ]
  },
  {
   "cell_type": "code",
   "execution_count": null,
   "metadata": {},
   "outputs": [],
   "source": []
  }
 ],
 "metadata": {
  "kernelspec": {
   "display_name": "Python 3",
   "language": "python",
   "name": "python3"
  },
  "language_info": {
   "codemirror_mode": {
    "name": "ipython",
    "version": 3
   },
   "file_extension": ".py",
   "mimetype": "text/x-python",
   "name": "python",
   "nbconvert_exporter": "python",
   "pygments_lexer": "ipython3",
   "version": "3.6.9"
  }
 },
 "nbformat": 4,
 "nbformat_minor": 2
}
