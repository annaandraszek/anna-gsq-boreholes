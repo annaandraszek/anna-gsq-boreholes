{
 "cells": [
  {
   "cell_type": "code",
   "execution_count": 2,
   "metadata": {},
   "outputs": [],
   "source": [
    "import pandas as pd"
   ]
  },
  {
   "cell_type": "code",
   "execution_count": 3,
   "metadata": {},
   "outputs": [],
   "source": [
    "df = pd.read_excel('QDEX_export_v2.xlsx')"
   ]
  },
  {
   "cell_type": "code",
   "execution_count": 7,
   "metadata": {},
   "outputs": [],
   "source": [
    "opendf = df.loc[df['RSTATUS'] == 'O']"
   ]
  },
  {
   "cell_type": "code",
   "execution_count": 4,
   "metadata": {},
   "outputs": [
    {
     "data": {
      "text/plain": [
       "Unnamed: 0             int64\n",
       "REPNO                  int64\n",
       "RTITLE                object\n",
       "RTYPE                 object\n",
       "RSTATUS               object\n",
       "AUTHOR                object\n",
       "LODGER                object\n",
       "SUBMITBY              object\n",
       "LOCALITY              object\n",
       "MAPREF                object\n",
       "TENURE                object\n",
       "REPDATE       datetime64[ns]\n",
       "RECDATE               object\n",
       "dtype: object"
      ]
     },
     "execution_count": 4,
     "metadata": {},
     "output_type": "execute_result"
    }
   ],
   "source": [
    "df.dtypes"
   ]
  },
  {
   "cell_type": "code",
   "execution_count": 13,
   "metadata": {},
   "outputs": [],
   "source": [
    "import matplotlib.pyplot as plt\n",
    "import numpy as np\n",
    "%matplotlib inline"
   ]
  },
  {
   "cell_type": "code",
   "execution_count": 17,
   "metadata": {},
   "outputs": [
    {
     "data": {
      "text/plain": [
       "(array([4.5000e+01, 0.0000e+00, 0.0000e+00, 0.0000e+00, 0.0000e+00,\n",
       "        0.0000e+00, 0.0000e+00, 5.1900e+02, 1.6345e+04, 8.3715e+04]),\n",
       " array([612411.0088327 , 624912.40794943, 637413.80706616, 649915.20618289,\n",
       "        662416.60529962, 674918.00441635, 687419.40353308, 699920.80264981,\n",
       "        712422.20176654, 724923.60088327, 737425.        ]),\n",
       " <a list of 10 Patch objects>)"
      ]
     },
     "execution_count": 17,
     "metadata": {},
     "output_type": "execute_result"
    },
    {
     "data": {
      "image/png": "[encoded data removed]",
      "text/plain": [
       "<Figure size 432x288 with 1 Axes>"
      ]
     },
     "metadata": {
      "needs_background": "light"
     },
     "output_type": "display_data"
    }
   ],
   "source": [
    "plt.xlim(left=np.datetime64('1920'))\n",
    "plt.hist(df.REPDATE, bins=10)\n"
   ]
  },
  {
   "cell_type": "code",
   "execution_count": 19,
   "metadata": {},
   "outputs": [
    {
     "data": {
      "text/plain": [
       "(array([2.4000e+01, 0.0000e+00, 0.0000e+00, 0.0000e+00, 0.0000e+00,\n",
       "        0.0000e+00, 3.6600e+02, 1.0213e+04, 5.0873e+04]),\n",
       " array([612411.0088327 , 626301.45229573, 640191.89575877, 654082.3392218 ,\n",
       "        667972.78268483, 681863.22614787, 695753.6696109 , 709644.11307393,\n",
       "        723534.55653697, 737425.        ]),\n",
       " <a list of 9 Patch objects>)"
      ]
     },
     "execution_count": 19,
     "metadata": {},
     "output_type": "execute_result"
    },
    {
     "data": {
      "image/png": "[encoded data removed]",
      "text/plain": [
       "<Figure size 432x288 with 1 Axes>"
      ]
     },
     "metadata": {
      "needs_background": "light"
     },
     "output_type": "display_data"
    }
   ],
   "source": [
    "plt.xlim(left=np.datetime64('1920'))\n",
    "plt.hist(opendf.REPDATE, bins=9)\n"
   ]
  },
  {
   "cell_type": "code",
   "execution_count": 11,
   "metadata": {},
   "outputs": [
    {
     "data": {
      "text/plain": [
       "count                   61452\n",
       "unique                   7436\n",
       "top       1990-01-01 00:00:00\n",
       "freq                      404\n",
       "first     1920-01-15 00:00:00\n",
       "last      2020-01-01 00:00:00\n",
       "Name: REPDATE, dtype: object"
      ]
     },
     "execution_count": 11,
     "metadata": {},
     "output_type": "execute_result"
    }
   ],
   "source": [
    "opendf['REPDATE'].describe()"
   ]
  },
  {
   "cell_type": "code",
   "execution_count": 22,
   "metadata": {},
   "outputs": [
    {
     "ename": "TypeError",
     "evalue": "'>' not supported between instances of 'Timestamp' and 'str'",
     "output_type": "error",
     "traceback": [
      "\u001b[1;31m---------------------------------------------------------------------------\u001b[0m",
      "\u001b[1;31mTypeError\u001b[0m                                 Traceback (most recent call last)",
      "\u001b[1;32m<ipython-input-22-3809206b2faf>\u001b[0m in \u001b[0;36m<module>\u001b[1;34m\u001b[0m\n\u001b[0;32m      1\u001b[0m \u001b[0mview\u001b[0m \u001b[1;33m=\u001b[0m \u001b[0mdf\u001b[0m\u001b[1;33m.\u001b[0m\u001b[0mloc\u001b[0m\u001b[1;33m[\u001b[0m\u001b[0mdf\u001b[0m\u001b[1;33m[\u001b[0m\u001b[1;34m'REPDATE'\u001b[0m\u001b[1;33m]\u001b[0m \u001b[1;33m>\u001b[0m \u001b[0mnp\u001b[0m\u001b[1;33m.\u001b[0m\u001b[0mdatetime64\u001b[0m\u001b[1;33m(\u001b[0m\u001b[1;34m'2018'\u001b[0m\u001b[1;33m)\u001b[0m\u001b[1;33m]\u001b[0m\u001b[1;33m\u001b[0m\u001b[1;33m\u001b[0m\u001b[0m\n\u001b[1;32m----> 2\u001b[1;33m \u001b[0mview\u001b[0m\u001b[1;33m[\u001b[0m\u001b[0mview\u001b[0m\u001b[1;33m.\u001b[0m\u001b[0mREPDATE\u001b[0m \u001b[1;33m>\u001b[0m \u001b[0mview\u001b[0m\u001b[1;33m.\u001b[0m\u001b[0mRECDATE\u001b[0m\u001b[1;33m]\u001b[0m\u001b[1;33m\u001b[0m\u001b[1;33m\u001b[0m\u001b[0m\n\u001b[0m",
      "\u001b[1;32mC:\\Anaconda\\envs\\gsq\\lib\\site-packages\\pandas\\core\\ops\\__init__.py\u001b[0m in \u001b[0;36mwrapper\u001b[1;34m(self, other, axis)\u001b[0m\n\u001b[0;32m   1177\u001b[0m                 \u001b[0mother\u001b[0m \u001b[1;33m=\u001b[0m \u001b[0mTimestamp\u001b[0m\u001b[1;33m(\u001b[0m\u001b[0mother\u001b[0m\u001b[1;33m)\u001b[0m\u001b[1;33m\u001b[0m\u001b[1;33m\u001b[0m\u001b[0m\n\u001b[0;32m   1178\u001b[0m \u001b[1;33m\u001b[0m\u001b[0m\n\u001b[1;32m-> 1179\u001b[1;33m             \u001b[0mres_values\u001b[0m \u001b[1;33m=\u001b[0m \u001b[0mdispatch_to_index_op\u001b[0m\u001b[1;33m(\u001b[0m\u001b[0mop\u001b[0m\u001b[1;33m,\u001b[0m \u001b[0mself\u001b[0m\u001b[1;33m,\u001b[0m \u001b[0mother\u001b[0m\u001b[1;33m,\u001b[0m \u001b[0mpd\u001b[0m\u001b[1;33m.\u001b[0m\u001b[0mDatetimeIndex\u001b[0m\u001b[1;33m)\u001b[0m\u001b[1;33m\u001b[0m\u001b[1;33m\u001b[0m\u001b[0m\n\u001b[0m\u001b[0;32m   1180\u001b[0m \u001b[1;33m\u001b[0m\u001b[0m\n\u001b[0;32m   1181\u001b[0m             \u001b[1;32mreturn\u001b[0m \u001b[0mself\u001b[0m\u001b[1;33m.\u001b[0m\u001b[0m_constructor\u001b[0m\u001b[1;33m(\u001b[0m\u001b[0mres_values\u001b[0m\u001b[1;33m,\u001b[0m \u001b[0mindex\u001b[0m\u001b[1;33m=\u001b[0m\u001b[0mself\u001b[0m\u001b[1;33m.\u001b[0m\u001b[0mindex\u001b[0m\u001b[1;33m,\u001b[0m \u001b[0mname\u001b[0m\u001b[1;33m=\u001b[0m\u001b[0mres_name\u001b[0m\u001b[1;33m)\u001b[0m\u001b[1;33m\u001b[0m\u001b[1;33m\u001b[0m\u001b[0m\n",
      "\u001b[1;32mC:\\Anaconda\\envs\\gsq\\lib\\site-packages\\pandas\\core\\ops\\__init__.py\u001b[0m in \u001b[0;36mdispatch_to_index_op\u001b[1;34m(op, left, right, index_class)\u001b[0m\n\u001b[0;32m    628\u001b[0m         \u001b[0mleft_idx\u001b[0m \u001b[1;33m=\u001b[0m \u001b[0mleft_idx\u001b[0m\u001b[1;33m.\u001b[0m\u001b[0m_shallow_copy\u001b[0m\u001b[1;33m(\u001b[0m\u001b[0mfreq\u001b[0m\u001b[1;33m=\u001b[0m\u001b[1;32mNone\u001b[0m\u001b[1;33m)\u001b[0m\u001b[1;33m\u001b[0m\u001b[1;33m\u001b[0m\u001b[0m\n\u001b[0;32m    629\u001b[0m     \u001b[1;32mtry\u001b[0m\u001b[1;33m:\u001b[0m\u001b[1;33m\u001b[0m\u001b[1;33m\u001b[0m\u001b[0m\n\u001b[1;32m--> 630\u001b[1;33m         \u001b[0mresult\u001b[0m \u001b[1;33m=\u001b[0m \u001b[0mop\u001b[0m\u001b[1;33m(\u001b[0m\u001b[0mleft_idx\u001b[0m\u001b[1;33m,\u001b[0m \u001b[0mright\u001b[0m\u001b[1;33m)\u001b[0m\u001b[1;33m\u001b[0m\u001b[1;33m\u001b[0m\u001b[0m\n\u001b[0m\u001b[0;32m    631\u001b[0m     \u001b[1;32mexcept\u001b[0m \u001b[0mNullFrequencyError\u001b[0m\u001b[1;33m:\u001b[0m\u001b[1;33m\u001b[0m\u001b[1;33m\u001b[0m\u001b[0m\n\u001b[0;32m    632\u001b[0m         \u001b[1;31m# DatetimeIndex and TimedeltaIndex with freq == None raise ValueError\u001b[0m\u001b[1;33m\u001b[0m\u001b[1;33m\u001b[0m\u001b[1;33m\u001b[0m\u001b[0m\n",
      "\u001b[1;32mC:\\Anaconda\\envs\\gsq\\lib\\site-packages\\pandas\\core\\indexes\\datetimelike.py\u001b[0m in \u001b[0;36mwrapper\u001b[1;34m(self, other)\u001b[0m\n\u001b[0;32m    130\u001b[0m                 \u001b[0mother\u001b[0m \u001b[1;33m=\u001b[0m \u001b[0mother\u001b[0m\u001b[1;33m.\u001b[0m\u001b[0m_values\u001b[0m\u001b[1;33m\u001b[0m\u001b[1;33m\u001b[0m\u001b[0m\n\u001b[0;32m    131\u001b[0m \u001b[1;33m\u001b[0m\u001b[0m\n\u001b[1;32m--> 132\u001b[1;33m             \u001b[0mresult\u001b[0m \u001b[1;33m=\u001b[0m \u001b[0mop\u001b[0m\u001b[1;33m(\u001b[0m\u001b[0mself\u001b[0m\u001b[1;33m.\u001b[0m\u001b[0m_data\u001b[0m\u001b[1;33m,\u001b[0m \u001b[0mmaybe_unwrap_index\u001b[0m\u001b[1;33m(\u001b[0m\u001b[0mother\u001b[0m\u001b[1;33m)\u001b[0m\u001b[1;33m)\u001b[0m\u001b[1;33m\u001b[0m\u001b[1;33m\u001b[0m\u001b[0m\n\u001b[0m\u001b[0;32m    133\u001b[0m             \u001b[1;32mreturn\u001b[0m \u001b[0mresult\u001b[0m\u001b[1;33m\u001b[0m\u001b[1;33m\u001b[0m\u001b[0m\n\u001b[0;32m    134\u001b[0m \u001b[1;33m\u001b[0m\u001b[0m\n",
      "\u001b[1;32mC:\\Anaconda\\envs\\gsq\\lib\\site-packages\\pandas\\core\\arrays\\datetimes.py\u001b[0m in \u001b[0;36mwrapper\u001b[1;34m(self, other)\u001b[0m\n\u001b[0;32m    200\u001b[0m                 \u001b[1;32mwith\u001b[0m \u001b[0mnp\u001b[0m\u001b[1;33m.\u001b[0m\u001b[0merrstate\u001b[0m\u001b[1;33m(\u001b[0m\u001b[0mall\u001b[0m\u001b[1;33m=\u001b[0m\u001b[1;34m\"ignore\"\u001b[0m\u001b[1;33m)\u001b[0m\u001b[1;33m:\u001b[0m\u001b[1;33m\u001b[0m\u001b[1;33m\u001b[0m\u001b[0m\n\u001b[0;32m    201\u001b[0m                     result = ops._comp_method_OBJECT_ARRAY(\n\u001b[1;32m--> 202\u001b[1;33m                         \u001b[0mop\u001b[0m\u001b[1;33m,\u001b[0m \u001b[0mself\u001b[0m\u001b[1;33m.\u001b[0m\u001b[0mastype\u001b[0m\u001b[1;33m(\u001b[0m\u001b[0mobject\u001b[0m\u001b[1;33m)\u001b[0m\u001b[1;33m,\u001b[0m \u001b[0mother\u001b[0m\u001b[1;33m\u001b[0m\u001b[1;33m\u001b[0m\u001b[0m\n\u001b[0m\u001b[0;32m    203\u001b[0m                     )\n\u001b[0;32m    204\u001b[0m                 \u001b[0mo_mask\u001b[0m \u001b[1;33m=\u001b[0m \u001b[0misna\u001b[0m\u001b[1;33m(\u001b[0m\u001b[0mother\u001b[0m\u001b[1;33m)\u001b[0m\u001b[1;33m\u001b[0m\u001b[1;33m\u001b[0m\u001b[0m\n",
      "\u001b[1;32mC:\\Anaconda\\envs\\gsq\\lib\\site-packages\\pandas\\core\\ops\\__init__.py\u001b[0m in \u001b[0;36m_comp_method_OBJECT_ARRAY\u001b[1;34m(op, x, y)\u001b[0m\n\u001b[0;32m   1065\u001b[0m             \u001b[0my\u001b[0m \u001b[1;33m=\u001b[0m \u001b[0my\u001b[0m\u001b[1;33m.\u001b[0m\u001b[0mvalues\u001b[0m\u001b[1;33m\u001b[0m\u001b[1;33m\u001b[0m\u001b[0m\n\u001b[0;32m   1066\u001b[0m \u001b[1;33m\u001b[0m\u001b[0m\n\u001b[1;32m-> 1067\u001b[1;33m         \u001b[0mresult\u001b[0m \u001b[1;33m=\u001b[0m \u001b[0mlibops\u001b[0m\u001b[1;33m.\u001b[0m\u001b[0mvec_compare\u001b[0m\u001b[1;33m(\u001b[0m\u001b[0mx\u001b[0m\u001b[1;33m,\u001b[0m \u001b[0my\u001b[0m\u001b[1;33m,\u001b[0m \u001b[0mop\u001b[0m\u001b[1;33m)\u001b[0m\u001b[1;33m\u001b[0m\u001b[1;33m\u001b[0m\u001b[0m\n\u001b[0m\u001b[0;32m   1068\u001b[0m     \u001b[1;32melse\u001b[0m\u001b[1;33m:\u001b[0m\u001b[1;33m\u001b[0m\u001b[1;33m\u001b[0m\u001b[0m\n\u001b[0;32m   1069\u001b[0m         \u001b[0mresult\u001b[0m \u001b[1;33m=\u001b[0m \u001b[0mlibops\u001b[0m\u001b[1;33m.\u001b[0m\u001b[0mscalar_compare\u001b[0m\u001b[1;33m(\u001b[0m\u001b[0mx\u001b[0m\u001b[1;33m,\u001b[0m \u001b[0my\u001b[0m\u001b[1;33m,\u001b[0m \u001b[0mop\u001b[0m\u001b[1;33m)\u001b[0m\u001b[1;33m\u001b[0m\u001b[1;33m\u001b[0m\u001b[0m\n",
      "\u001b[1;32mpandas/_libs/ops.pyx\u001b[0m in \u001b[0;36mpandas._libs.ops.vec_compare\u001b[1;34m()\u001b[0m\n",
      "\u001b[1;31mTypeError\u001b[0m: '>' not supported between instances of 'Timestamp' and 'str'"
     ]
    }
   ],
   "source": [
    "view = df.loc[df['REPDATE'] > np.datetime64('2018')]\n",
    "view[view.REPDATE > view.RECDATE]"
   ]
  },
  {
   "cell_type": "code",
   "execution_count": 35,
   "metadata": {},
   "outputs": [
    {
     "ename": "ValueError",
     "evalue": "cannot index with vector containing NA / NaN values",
     "output_type": "error",
     "traceback": [
      "\u001b[1;31m---------------------------------------------------------------------------\u001b[0m",
      "\u001b[1;31mValueError\u001b[0m                                Traceback (most recent call last)",
      "\u001b[1;32m<ipython-input-35-66036937666b>\u001b[0m in \u001b[0;36m<module>\u001b[1;34m\u001b[0m\n\u001b[0;32m      1\u001b[0m \u001b[1;32mimport\u001b[0m \u001b[0mre\u001b[0m\u001b[1;33m\u001b[0m\u001b[1;33m\u001b[0m\u001b[0m\n\u001b[1;32m----> 2\u001b[1;33m \u001b[0mview\u001b[0m\u001b[1;33m[\u001b[0m\u001b[0mview\u001b[0m\u001b[1;33m.\u001b[0m\u001b[0mRECDATE\u001b[0m\u001b[1;33m.\u001b[0m\u001b[0mstr\u001b[0m\u001b[1;33m.\u001b[0m\u001b[0mcontains\u001b[0m\u001b[1;33m(\u001b[0m\u001b[1;34m'19'\u001b[0m\u001b[1;33m)\u001b[0m\u001b[1;33m]\u001b[0m\u001b[1;33m\u001b[0m\u001b[1;33m\u001b[0m\u001b[0m\n\u001b[0m",
      "\u001b[1;32mC:\\Anaconda\\envs\\gsq\\lib\\site-packages\\pandas\\core\\frame.py\u001b[0m in \u001b[0;36m__getitem__\u001b[1;34m(self, key)\u001b[0m\n\u001b[0;32m   2983\u001b[0m \u001b[1;33m\u001b[0m\u001b[0m\n\u001b[0;32m   2984\u001b[0m         \u001b[1;31m# Do we have a (boolean) 1d indexer?\u001b[0m\u001b[1;33m\u001b[0m\u001b[1;33m\u001b[0m\u001b[1;33m\u001b[0m\u001b[0m\n\u001b[1;32m-> 2985\u001b[1;33m         \u001b[1;32mif\u001b[0m \u001b[0mcom\u001b[0m\u001b[1;33m.\u001b[0m\u001b[0mis_bool_indexer\u001b[0m\u001b[1;33m(\u001b[0m\u001b[0mkey\u001b[0m\u001b[1;33m)\u001b[0m\u001b[1;33m:\u001b[0m\u001b[1;33m\u001b[0m\u001b[1;33m\u001b[0m\u001b[0m\n\u001b[0m\u001b[0;32m   2986\u001b[0m             \u001b[1;32mreturn\u001b[0m \u001b[0mself\u001b[0m\u001b[1;33m.\u001b[0m\u001b[0m_getitem_bool_array\u001b[0m\u001b[1;33m(\u001b[0m\u001b[0mkey\u001b[0m\u001b[1;33m)\u001b[0m\u001b[1;33m\u001b[0m\u001b[1;33m\u001b[0m\u001b[0m\n\u001b[0;32m   2987\u001b[0m \u001b[1;33m\u001b[0m\u001b[0m\n",
      "\u001b[1;32mC:\\Anaconda\\envs\\gsq\\lib\\site-packages\\pandas\\core\\common.py\u001b[0m in \u001b[0;36mis_bool_indexer\u001b[1;34m(key)\u001b[0m\n\u001b[0;32m    128\u001b[0m             \u001b[1;32mif\u001b[0m \u001b[1;32mnot\u001b[0m \u001b[0mlib\u001b[0m\u001b[1;33m.\u001b[0m\u001b[0mis_bool_array\u001b[0m\u001b[1;33m(\u001b[0m\u001b[0mkey\u001b[0m\u001b[1;33m)\u001b[0m\u001b[1;33m:\u001b[0m\u001b[1;33m\u001b[0m\u001b[1;33m\u001b[0m\u001b[0m\n\u001b[0;32m    129\u001b[0m                 \u001b[1;32mif\u001b[0m \u001b[0misna\u001b[0m\u001b[1;33m(\u001b[0m\u001b[0mkey\u001b[0m\u001b[1;33m)\u001b[0m\u001b[1;33m.\u001b[0m\u001b[0many\u001b[0m\u001b[1;33m(\u001b[0m\u001b[1;33m)\u001b[0m\u001b[1;33m:\u001b[0m\u001b[1;33m\u001b[0m\u001b[1;33m\u001b[0m\u001b[0m\n\u001b[1;32m--> 130\u001b[1;33m                     \u001b[1;32mraise\u001b[0m \u001b[0mValueError\u001b[0m\u001b[1;33m(\u001b[0m\u001b[0mna_msg\u001b[0m\u001b[1;33m)\u001b[0m\u001b[1;33m\u001b[0m\u001b[1;33m\u001b[0m\u001b[0m\n\u001b[0m\u001b[0;32m    131\u001b[0m                 \u001b[1;32mreturn\u001b[0m \u001b[1;32mFalse\u001b[0m\u001b[1;33m\u001b[0m\u001b[1;33m\u001b[0m\u001b[0m\n\u001b[0;32m    132\u001b[0m             \u001b[1;32mreturn\u001b[0m \u001b[1;32mTrue\u001b[0m\u001b[1;33m\u001b[0m\u001b[1;33m\u001b[0m\u001b[0m\n",
      "\u001b[1;31mValueError\u001b[0m: cannot index with vector containing NA / NaN values"
     ]
    }
   ],
   "source": [
    "import re\n",
    "view[view.RECDATE.str.contains('19')]"
   ]
  },
  {
   "cell_type": "code",
   "execution_count": 28,
   "metadata": {},
   "outputs": [
    {
     "data": {
      "text/html": [
       "<div>\n",
       "<style scoped>\n",
       "    .dataframe tbody tr th:only-of-type {\n",
       "        vertical-align: middle;\n",
       "    }\n",
       "\n",
       "    .dataframe tbody tr th {\n",
       "        vertical-align: top;\n",
       "    }\n",
       "\n",
       "    .dataframe thead th {\n",
       "        text-align: right;\n",
       "    }\n",
       "</style>\n",
       "<table border=\"1\" class=\"dataframe\">\n",
       "  <thead>\n",
       "    <tr style=\"text-align: right;\">\n",
       "      <th></th>\n",
       "      <th>Unnamed: 0</th>\n",
       "      <th>REPNO</th>\n",
       "      <th>RTITLE</th>\n",
       "      <th>RTYPE</th>\n",
       "      <th>RSTATUS</th>\n",
       "      <th>AUTHOR</th>\n",
       "      <th>LODGER</th>\n",
       "      <th>SUBMITBY</th>\n",
       "      <th>LOCALITY</th>\n",
       "      <th>MAPREF</th>\n",
       "      <th>TENURE</th>\n",
       "      <th>REPDATE</th>\n",
       "      <th>RECDATE</th>\n",
       "    </tr>\n",
       "  </thead>\n",
       "  <tbody>\n",
       "    <tr>\n",
       "      <th>69</th>\n",
       "      <td>69</td>\n",
       "      <td>115309</td>\n",
       "      <td>PPL 102, BRAEMAR GAS PIPELINE, ANNUAL REPORT F...</td>\n",
       "      <td>ANNUAL</td>\n",
       "      <td>C</td>\n",
       "      <td>HOBBS, K</td>\n",
       "      <td>KELLEIGH HOBBS</td>\n",
       "      <td>ENERGY INFRASTRUCTURE MANAGEMENT</td>\n",
       "      <td>DALBY, KOGAN, OAKEY AREA</td>\n",
       "      <td>9143, 9043, 9243</td>\n",
       "      <td>PPL 102</td>\n",
       "      <td>2019-10-31</td>\n",
       "      <td>05/NOV/19</td>\n",
       "    </tr>\n",
       "    <tr>\n",
       "      <th>70</th>\n",
       "      <td>70</td>\n",
       "      <td>115308</td>\n",
       "      <td>EPC 1230, COMET RIDGE, ANNUAL REPORT FOR PERIO...</td>\n",
       "      <td>ANNUAL</td>\n",
       "      <td>C</td>\n",
       "      <td>REDE; INGHUYS, G</td>\n",
       "      <td>EDEN HODSON</td>\n",
       "      <td>UTM GLOBAL PTY LTD</td>\n",
       "      <td>50 KM E OF EMERALD</td>\n",
       "      <td>8650</td>\n",
       "      <td>EPC 1230</td>\n",
       "      <td>2019-10-10</td>\n",
       "      <td>06/NOV/19</td>\n",
       "    </tr>\n",
       "    <tr>\n",
       "      <th>72</th>\n",
       "      <td>72</td>\n",
       "      <td>115304</td>\n",
       "      <td>EPC 1231, TOGARA WEST PROJECT, ANNUAL REPORT F...</td>\n",
       "      <td>ANNUAL</td>\n",
       "      <td>C</td>\n",
       "      <td>VETI, M</td>\n",
       "      <td>MELISSA VETI</td>\n",
       "      <td>CIVIL &amp; MINING RESOURCES PTY LTD</td>\n",
       "      <td>40 KM SE OF EMERALD</td>\n",
       "      <td>8550, 8650, 8649</td>\n",
       "      <td>EPC 1231</td>\n",
       "      <td>2019-11-06</td>\n",
       "      <td>06/NOV/19</td>\n",
       "    </tr>\n",
       "    <tr>\n",
       "      <th>73</th>\n",
       "      <td>73</td>\n",
       "      <td>115303</td>\n",
       "      <td>EPM 19232, MT SKIPPER, ANNUAL REPORT FOR PERIO...</td>\n",
       "      <td>ANNUAL</td>\n",
       "      <td>C</td>\n",
       "      <td>PIENMUNNE, J</td>\n",
       "      <td>JYRKI PIENMUNNE</td>\n",
       "      <td>RED METAL LIMITED</td>\n",
       "      <td>220 KM SE OF CLONCURRY</td>\n",
       "      <td>7152</td>\n",
       "      <td>EPM 19232</td>\n",
       "      <td>2019-11-05</td>\n",
       "      <td>06/NOV/19</td>\n",
       "    </tr>\n",
       "    <tr>\n",
       "      <th>74</th>\n",
       "      <td>74</td>\n",
       "      <td>115301</td>\n",
       "      <td>MDL 381, WINDERMERE, ANNUAL REPORT FOR PERIOD ...</td>\n",
       "      <td>ANNUAL</td>\n",
       "      <td>C</td>\n",
       "      <td>SAINSBURY, J</td>\n",
       "      <td>TAMARA GROTHUES</td>\n",
       "      <td>AUSTRALIAN MINING AND EXPLORATION TITLE SERVICES</td>\n",
       "      <td>20 KM E OF MT GARNET</td>\n",
       "      <td>7962</td>\n",
       "      <td>MDL 381</td>\n",
       "      <td>2019-11-06</td>\n",
       "      <td>06/NOV/19</td>\n",
       "    </tr>\n",
       "    <tr>\n",
       "      <th>...</th>\n",
       "      <td>...</td>\n",
       "      <td>...</td>\n",
       "      <td>...</td>\n",
       "      <td>...</td>\n",
       "      <td>...</td>\n",
       "      <td>...</td>\n",
       "      <td>...</td>\n",
       "      <td>...</td>\n",
       "      <td>...</td>\n",
       "      <td>...</td>\n",
       "      <td>...</td>\n",
       "      <td>...</td>\n",
       "      <td>...</td>\n",
       "    </tr>\n",
       "    <tr>\n",
       "      <th>100614</th>\n",
       "      <td>100614</td>\n",
       "      <td>115300</td>\n",
       "      <td>PL 297, OER COMBABULA 433, WELL COMPLETION REPORT</td>\n",
       "      <td>WELCOM</td>\n",
       "      <td>C</td>\n",
       "      <td>PARMITER, S</td>\n",
       "      <td>SIMON PARMITER</td>\n",
       "      <td>ORIGIN ENERGY</td>\n",
       "      <td>40 KM N OF YULEBA</td>\n",
       "      <td>8845</td>\n",
       "      <td>PL 297</td>\n",
       "      <td>2019-10-22</td>\n",
       "      <td>06/NOV/19</td>\n",
       "    </tr>\n",
       "    <tr>\n",
       "      <th>100616</th>\n",
       "      <td>100616</td>\n",
       "      <td>115302</td>\n",
       "      <td>PL 297, OER COMBABULA 385, WELL COMPLETION REPORT</td>\n",
       "      <td>WELCOM</td>\n",
       "      <td>C</td>\n",
       "      <td>PARMITER, S</td>\n",
       "      <td>SIMON PARMITER</td>\n",
       "      <td>ORIGIN ENERGY</td>\n",
       "      <td>40 KM N OF YULEBA</td>\n",
       "      <td>8845</td>\n",
       "      <td>PL 297</td>\n",
       "      <td>2019-11-06</td>\n",
       "      <td>06/NOV/19</td>\n",
       "    </tr>\n",
       "    <tr>\n",
       "      <th>100619</th>\n",
       "      <td>100619</td>\n",
       "      <td>115306</td>\n",
       "      <td>PL 404, OER REEDY CREEK 280, WELL COMPLETION R...</td>\n",
       "      <td>WELCOM</td>\n",
       "      <td>C</td>\n",
       "      <td>PARMITER, S</td>\n",
       "      <td>SIMON PARMITER</td>\n",
       "      <td>ORIGIN ENERGY</td>\n",
       "      <td>30 KM N OF YULEBA</td>\n",
       "      <td>8845</td>\n",
       "      <td>PL 404</td>\n",
       "      <td>2019-11-06</td>\n",
       "      <td>06/NOV/19</td>\n",
       "    </tr>\n",
       "    <tr>\n",
       "      <th>100620</th>\n",
       "      <td>100620</td>\n",
       "      <td>115307</td>\n",
       "      <td>PL 1021, SCS RM68-86 1, WELL COMPLETION REPORT</td>\n",
       "      <td>WELCOM</td>\n",
       "      <td>C</td>\n",
       "      <td>PAUWELS, G</td>\n",
       "      <td>JOHN MCCORMACK</td>\n",
       "      <td>SANTOS LIMITED</td>\n",
       "      <td>MUGGLETON AREA</td>\n",
       "      <td>8745</td>\n",
       "      <td>PL 1021</td>\n",
       "      <td>2019-11-06</td>\n",
       "      <td>06/NOV/19</td>\n",
       "    </tr>\n",
       "    <tr>\n",
       "      <th>100623</th>\n",
       "      <td>100623</td>\n",
       "      <td>115310</td>\n",
       "      <td>PL 281, BRO RM40-152 1, WELL COMPLETION REPORT</td>\n",
       "      <td>WELCOM</td>\n",
       "      <td>C</td>\n",
       "      <td>PAUWELS, G</td>\n",
       "      <td>JOHN MCCORMACK</td>\n",
       "      <td>SANTOS LIMITED</td>\n",
       "      <td>YULEBA AREA</td>\n",
       "      <td>8744</td>\n",
       "      <td>PL 281</td>\n",
       "      <td>2019-11-06</td>\n",
       "      <td>06/NOV/19</td>\n",
       "    </tr>\n",
       "  </tbody>\n",
       "</table>\n",
       "<p>8910 rows × 13 columns</p>\n",
       "</div>"
      ],
      "text/plain": [
       "        Unnamed: 0   REPNO                                             RTITLE  \\\n",
       "69              69  115309  PPL 102, BRAEMAR GAS PIPELINE, ANNUAL REPORT F...   \n",
       "70              70  115308  EPC 1230, COMET RIDGE, ANNUAL REPORT FOR PERIO...   \n",
       "72              72  115304  EPC 1231, TOGARA WEST PROJECT, ANNUAL REPORT F...   \n",
       "73              73  115303  EPM 19232, MT SKIPPER, ANNUAL REPORT FOR PERIO...   \n",
       "74              74  115301  MDL 381, WINDERMERE, ANNUAL REPORT FOR PERIOD ...   \n",
       "...            ...     ...                                                ...   \n",
       "100614      100614  115300  PL 297, OER COMBABULA 433, WELL COMPLETION REPORT   \n",
       "100616      100616  115302  PL 297, OER COMBABULA 385, WELL COMPLETION REPORT   \n",
       "100619      100619  115306  PL 404, OER REEDY CREEK 280, WELL COMPLETION R...   \n",
       "100620      100620  115307    PL 1021, SCS RM68-86 1, WELL COMPLETION REPORT    \n",
       "100623      100623  115310     PL 281, BRO RM40-152 1, WELL COMPLETION REPORT   \n",
       "\n",
       "         RTYPE RSTATUS            AUTHOR           LODGER  \\\n",
       "69      ANNUAL       C          HOBBS, K   KELLEIGH HOBBS   \n",
       "70      ANNUAL       C  REDE; INGHUYS, G      EDEN HODSON   \n",
       "72      ANNUAL       C          VETI, M      MELISSA VETI   \n",
       "73      ANNUAL       C     PIENMUNNE, J   JYRKI PIENMUNNE   \n",
       "74      ANNUAL       C     SAINSBURY, J   TAMARA GROTHUES   \n",
       "...        ...     ...               ...              ...   \n",
       "100614  WELCOM       C       PARMITER, S   SIMON PARMITER   \n",
       "100616  WELCOM       C       PARMITER, S   SIMON PARMITER   \n",
       "100619  WELCOM       C       PARMITER, S   SIMON PARMITER   \n",
       "100620  WELCOM       C        PAUWELS, G   JOHN MCCORMACK   \n",
       "100623  WELCOM       C        PAUWELS, G   JOHN MCCORMACK   \n",
       "\n",
       "                                                SUBMITBY  \\\n",
       "69                      ENERGY INFRASTRUCTURE MANAGEMENT   \n",
       "70                                    UTM GLOBAL PTY LTD   \n",
       "72                      CIVIL & MINING RESOURCES PTY LTD   \n",
       "73                                     RED METAL LIMITED   \n",
       "74      AUSTRALIAN MINING AND EXPLORATION TITLE SERVICES   \n",
       "...                                                  ...   \n",
       "100614                                     ORIGIN ENERGY   \n",
       "100616                                     ORIGIN ENERGY   \n",
       "100619                                     ORIGIN ENERGY   \n",
       "100620                                    SANTOS LIMITED   \n",
       "100623                                    SANTOS LIMITED   \n",
       "\n",
       "                        LOCALITY            MAPREF     TENURE    REPDATE  \\\n",
       "69      DALBY, KOGAN, OAKEY AREA  9143, 9043, 9243    PPL 102 2019-10-31   \n",
       "70            50 KM E OF EMERALD              8650   EPC 1230 2019-10-10   \n",
       "72           40 KM SE OF EMERALD  8550, 8650, 8649   EPC 1231 2019-11-06   \n",
       "73        220 KM SE OF CLONCURRY              7152  EPM 19232 2019-11-05   \n",
       "74          20 KM E OF MT GARNET              7962    MDL 381 2019-11-06   \n",
       "...                          ...               ...        ...        ...   \n",
       "100614         40 KM N OF YULEBA              8845     PL 297 2019-10-22   \n",
       "100616         40 KM N OF YULEBA              8845     PL 297 2019-11-06   \n",
       "100619         30 KM N OF YULEBA              8845     PL 404 2019-11-06   \n",
       "100620            MUGGLETON AREA              8745    PL 1021 2019-11-06   \n",
       "100623               YULEBA AREA              8744     PL 281 2019-11-06   \n",
       "\n",
       "          RECDATE  \n",
       "69      05/NOV/19  \n",
       "70      06/NOV/19  \n",
       "72      06/NOV/19  \n",
       "73      06/NOV/19  \n",
       "74      06/NOV/19  \n",
       "...           ...  \n",
       "100614  06/NOV/19  \n",
       "100616  06/NOV/19  \n",
       "100619  06/NOV/19  \n",
       "100620  06/NOV/19  \n",
       "100623  06/NOV/19  \n",
       "\n",
       "[8910 rows x 13 columns]"
      ]
     },
     "execution_count": 28,
     "metadata": {},
     "output_type": "execute_result"
    }
   ],
   "source": [
    "view"
   ]
  },
  {
   "cell_type": "code",
   "execution_count": null,
   "metadata": {},
   "outputs": [],
   "source": []
  }
 ],
 "metadata": {
  "kernelspec": {
   "display_name": "Python 3",
   "language": "python",
   "name": "python3"
  },
  "language_info": {
   "codemirror_mode": {
    "name": "ipython",
    "version": 3
   },
   "file_extension": ".py",
   "mimetype": "text/x-python",
   "name": "python",
   "nbconvert_exporter": "python",
   "pygments_lexer": "ipython3",
   "version": "3.6.9"
  }
 },
 "nbformat": 4,
 "nbformat_minor": 2
}
