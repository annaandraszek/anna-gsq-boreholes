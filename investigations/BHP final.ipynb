{
 "cells": [
  {
   "cell_type": "markdown",
   "metadata": {},
   "source": [
    "# Investigating reports - BHP (coal)"
   ]
  },
  {
   "cell_type": "code",
   "execution_count": 2,
   "metadata": {},
   "outputs": [],
   "source": [
    "import pandas as pd\n",
    "import numpy as np\n",
    "import sys\n",
    "sys.path.append('../')\n",
    "\n",
    "#from textracting.s3_downloading import download_reports"
   ]
  },
  {
   "cell_type": "code",
   "execution_count": 30,
   "metadata": {},
   "outputs": [],
   "source": [
    "df = pd.read_excel('QDEX_metada_export.xlsx')"
   ]
  },
  {
   "cell_type": "code",
   "execution_count": 27,
   "metadata": {},
   "outputs": [],
   "source": [
    "df = df.loc[df.RSTATUS != 'C']"
   ]
  },
  {
   "cell_type": "code",
   "execution_count": 32,
   "metadata": {},
   "outputs": [
    {
     "data": {
      "text/plain": [
       "(100624, 12)"
      ]
     },
     "execution_count": 32,
     "metadata": {},
     "output_type": "execute_result"
    }
   ],
   "source": [
    "df.shape"
   ]
  },
  {
   "cell_type": "code",
   "execution_count": 28,
   "metadata": {},
   "outputs": [
    {
     "name": "stdout",
     "output_type": "stream",
     "text": [
      "CDIFIN (37, 12)\n",
      "CUMPRD (65, 12)\n",
      "GEOPSR (1, 12)\n",
      "GHGSSC (14, 12)\n",
      "MPLODG (0, 12)\n",
      "PROD (610, 12)\n",
      "RESERV (741, 12)\n",
      "SSFINL (805, 12)\n",
      "SSOTHR (413, 12)\n",
      "SSREPR (92, 12)\n",
      "SURR (2, 12)\n",
      "TRANS (231, 12)\n",
      "WATOTH (0, 12)\n",
      "WATPRR (0, 12)\n",
      "WELAB (843, 12)\n",
      "WELOTH (504, 12)\n"
     ]
    }
   ],
   "source": [
    "# find number of reports of each type\n",
    "#types = ['6MTH', 'ANNUAL', 'FINAL', 'FINREQ', 'HFACR', 'INIFIN', 'MINAW', 'PETFLD', 'PETNAW', 'STSURV', 'WELCOM', 'WELPRO', 'WELTST']\n",
    "types = ['CDIFIN', 'CUMPRD', 'GEOPSR', 'GHGSSC', 'MPLODG', 'PROD', 'RESERV', 'SSFINL', 'SSOTHR', 'SSREPR', 'SURR', 'TRANS', 'WATOTH', 'WATPRR', 'WELAB', 'WELOTH']\n",
    "for t in types:\n",
    "    view = df[df.RTYPE == t]\n",
    "    print(t, view.shape)"
   ]
  },
  {
   "cell_type": "code",
   "execution_count": 71,
   "metadata": {},
   "outputs": [],
   "source": [
    "df = df[df.SUBMITBY.str.contains('BHP')==True]"
   ]
  },
  {
   "cell_type": "code",
   "execution_count": 72,
   "metadata": {},
   "outputs": [],
   "source": [
    "df = df[df.RSTATUS.str.contains('C')==False]  # confidential files will not be available to download"
   ]
  },
  {
   "cell_type": "code",
   "execution_count": 88,
   "metadata": {
    "scrolled": true
   },
   "outputs": [
    {
     "data": {
      "text/html": [
       "<div>\n",
       "<style scoped>\n",
       "    .dataframe tbody tr th:only-of-type {\n",
       "        vertical-align: middle;\n",
       "    }\n",
       "\n",
       "    .dataframe tbody tr th {\n",
       "        vertical-align: top;\n",
       "    }\n",
       "\n",
       "    .dataframe thead th {\n",
       "        text-align: right;\n",
       "    }\n",
       "</style>\n",
       "<table border=\"1\" class=\"dataframe\">\n",
       "  <thead>\n",
       "    <tr style=\"text-align: right;\">\n",
       "      <th></th>\n",
       "      <th>REPNO</th>\n",
       "      <th>RTITLE</th>\n",
       "      <th>RTYPE</th>\n",
       "      <th>RSTATUS</th>\n",
       "      <th>AUTHOR</th>\n",
       "      <th>LODGER</th>\n",
       "      <th>SUBMITBY</th>\n",
       "      <th>LOCALITY</th>\n",
       "      <th>MAPREF</th>\n",
       "      <th>TENURE</th>\n",
       "      <th>REPDATE</th>\n",
       "      <th>RECDATE</th>\n",
       "    </tr>\n",
       "  </thead>\n",
       "  <tbody>\n",
       "    <tr>\n",
       "      <th>9232</th>\n",
       "      <td>27264</td>\n",
       "      <td>EPC 463, BATHURST RANGE, REPORT FOR THE SIX MO...</td>\n",
       "      <td>6MTH</td>\n",
       "      <td>O</td>\n",
       "      <td>KITCH, R B</td>\n",
       "      <td>NaN</td>\n",
       "      <td>BHP AUSTRALIA COAL PTY LTD</td>\n",
       "      <td>NW OF COOKTOWN</td>\n",
       "      <td>7768, 7769</td>\n",
       "      <td>EPC 463</td>\n",
       "      <td>1995-06-01</td>\n",
       "      <td>2006-08-03</td>\n",
       "    </tr>\n",
       "    <tr>\n",
       "      <th>9546</th>\n",
       "      <td>23185</td>\n",
       "      <td>EPM 6031, GYMPIE, SIX MONTHLY REPORT FOR PERIO...</td>\n",
       "      <td>6MTH</td>\n",
       "      <td>O</td>\n",
       "      <td>ROWLANDS, N</td>\n",
       "      <td>NaN</td>\n",
       "      <td>BHP GOLD MINES LIMITED</td>\n",
       "      <td>GYMPIE AREA</td>\n",
       "      <td>9346, 9345, 9445</td>\n",
       "      <td>EPM 6031</td>\n",
       "      <td>1990-10-01</td>\n",
       "      <td>2003-11-28</td>\n",
       "    </tr>\n",
       "    <tr>\n",
       "      <th>9614</th>\n",
       "      <td>22691</td>\n",
       "      <td>EPM 6988, AMAROO, REPORT FOR THE SIX MONTHS EN...</td>\n",
       "      <td>6MTH</td>\n",
       "      <td>O</td>\n",
       "      <td>SMIT, R</td>\n",
       "      <td>NaN</td>\n",
       "      <td>BHP GOLD MINES LIMITED</td>\n",
       "      <td>NNW OF CLERMONT</td>\n",
       "      <td>8353, 8354</td>\n",
       "      <td>EPM 6988</td>\n",
       "      <td>1990-11-01</td>\n",
       "      <td>2003-11-28</td>\n",
       "    </tr>\n",
       "    <tr>\n",
       "      <th>9627</th>\n",
       "      <td>22587</td>\n",
       "      <td>EPM 6987 (DIAMOND CREEK), 6990 (DOORUNA), 7421...</td>\n",
       "      <td>6MTH</td>\n",
       "      <td>O</td>\n",
       "      <td>SMIT, R</td>\n",
       "      <td>NaN</td>\n",
       "      <td>BHP MINERALS LIMITED</td>\n",
       "      <td>S OF MOUNT COOLON</td>\n",
       "      <td>8354, 8353</td>\n",
       "      <td>EPM 6987, EPM 6990, EPM 7421</td>\n",
       "      <td>1990-11-01</td>\n",
       "      <td>2006-03-14</td>\n",
       "    </tr>\n",
       "    <tr>\n",
       "      <th>9637</th>\n",
       "      <td>22546</td>\n",
       "      <td>EPM 6869 (OAKLANDS), 6903 (CEMENT MILLS), REPO...</td>\n",
       "      <td>6MTH</td>\n",
       "      <td>O</td>\n",
       "      <td>SMIT, R</td>\n",
       "      <td>NaN</td>\n",
       "      <td>BHP MINERALS LIMITED</td>\n",
       "      <td>W OF WARWICK</td>\n",
       "      <td>9241</td>\n",
       "      <td>EPM 6869, EPM 6903</td>\n",
       "      <td>1990-10-01</td>\n",
       "      <td>2006-04-13</td>\n",
       "    </tr>\n",
       "    <tr>\n",
       "      <th>...</th>\n",
       "      <td>...</td>\n",
       "      <td>...</td>\n",
       "      <td>...</td>\n",
       "      <td>...</td>\n",
       "      <td>...</td>\n",
       "      <td>...</td>\n",
       "      <td>...</td>\n",
       "      <td>...</td>\n",
       "      <td>...</td>\n",
       "      <td>...</td>\n",
       "      <td>...</td>\n",
       "      <td>...</td>\n",
       "    </tr>\n",
       "    <tr>\n",
       "      <th>96225</th>\n",
       "      <td>22795</td>\n",
       "      <td>EPM 5899 (STOCKMAN CREEK), 6050 (EINASLEIGH), ...</td>\n",
       "      <td>ANNUAL</td>\n",
       "      <td>O</td>\n",
       "      <td>SHEPPARD, M J,KENNEDY, R J</td>\n",
       "      <td>NaN</td>\n",
       "      <td>BHP MINERALS LIMITED</td>\n",
       "      <td>EINASLEIGH AREA</td>\n",
       "      <td>7660, 7760, 7761</td>\n",
       "      <td>EPM 5899, EPM 6050</td>\n",
       "      <td>1991-03-01</td>\n",
       "      <td>2003-08-29</td>\n",
       "    </tr>\n",
       "    <tr>\n",
       "      <th>96232</th>\n",
       "      <td>22791</td>\n",
       "      <td>EPC 463, BATHURST RANGE, ANNUAL REPORT FOR YEA...</td>\n",
       "      <td>ANNUAL</td>\n",
       "      <td>O</td>\n",
       "      <td>HANDKE, R A</td>\n",
       "      <td>NaN</td>\n",
       "      <td>BHP MINERALS LIMITED</td>\n",
       "      <td>NW OF COOKTOWN</td>\n",
       "      <td>7769</td>\n",
       "      <td>EPC 463</td>\n",
       "      <td>1991-01-01</td>\n",
       "      <td>2006-06-26</td>\n",
       "    </tr>\n",
       "    <tr>\n",
       "      <th>96266</th>\n",
       "      <td>22701</td>\n",
       "      <td>EPM 6959, 7120, KEPPEL SANDS, ANNUAL REPORT FO...</td>\n",
       "      <td>ANNUAL</td>\n",
       "      <td>O</td>\n",
       "      <td>BENN, C J</td>\n",
       "      <td>NaN</td>\n",
       "      <td>BHP MINERALS LIMITED</td>\n",
       "      <td>E OF ROCKHAMPTON</td>\n",
       "      <td>9050, 9051</td>\n",
       "      <td>EPM 6959, EPM 7120</td>\n",
       "      <td>1991-06-01</td>\n",
       "      <td>2004-12-17</td>\n",
       "    </tr>\n",
       "    <tr>\n",
       "      <th>96405</th>\n",
       "      <td>22003</td>\n",
       "      <td>A-P 3CR, BATHURST RANGE, ANNUAL REPORT FOR YEA...</td>\n",
       "      <td>ANNUAL</td>\n",
       "      <td>O</td>\n",
       "      <td>KITCH, R</td>\n",
       "      <td>NaN</td>\n",
       "      <td>BHP MINERALS LIMITED</td>\n",
       "      <td>NW OF COOKTOWN</td>\n",
       "      <td>7768, 7769</td>\n",
       "      <td>EPC 463</td>\n",
       "      <td>1990-02-01</td>\n",
       "      <td>2006-06-30</td>\n",
       "    </tr>\n",
       "    <tr>\n",
       "      <th>96546</th>\n",
       "      <td>21531</td>\n",
       "      <td>A-P APPL 48/89 (COCKATOO CREEK), 49/89 (LORRAI...</td>\n",
       "      <td>ANNUAL</td>\n",
       "      <td>O</td>\n",
       "      <td>HAAS, L</td>\n",
       "      <td>NaN</td>\n",
       "      <td>BHP MINERALS LIMITED</td>\n",
       "      <td>N &amp; NE OF BLACKWATER</td>\n",
       "      <td>8652, 8651, 8750, 8751</td>\n",
       "      <td>EPM 6974, EPM 6975, EPM 6976, EPM 6977, EPM 69...</td>\n",
       "      <td>1990-06-01</td>\n",
       "      <td>2006-06-29</td>\n",
       "    </tr>\n",
       "  </tbody>\n",
       "</table>\n",
       "<p>607 rows × 12 columns</p>\n",
       "</div>"
      ],
      "text/plain": [
       "       REPNO                                             RTITLE   RTYPE  \\\n",
       "9232   27264  EPC 463, BATHURST RANGE, REPORT FOR THE SIX MO...    6MTH   \n",
       "9546   23185  EPM 6031, GYMPIE, SIX MONTHLY REPORT FOR PERIO...    6MTH   \n",
       "9614   22691  EPM 6988, AMAROO, REPORT FOR THE SIX MONTHS EN...    6MTH   \n",
       "9627   22587  EPM 6987 (DIAMOND CREEK), 6990 (DOORUNA), 7421...    6MTH   \n",
       "9637   22546  EPM 6869 (OAKLANDS), 6903 (CEMENT MILLS), REPO...    6MTH   \n",
       "...      ...                                                ...     ...   \n",
       "96225  22795  EPM 5899 (STOCKMAN CREEK), 6050 (EINASLEIGH), ...  ANNUAL   \n",
       "96232  22791  EPC 463, BATHURST RANGE, ANNUAL REPORT FOR YEA...  ANNUAL   \n",
       "96266  22701  EPM 6959, 7120, KEPPEL SANDS, ANNUAL REPORT FO...  ANNUAL   \n",
       "96405  22003  A-P 3CR, BATHURST RANGE, ANNUAL REPORT FOR YEA...  ANNUAL   \n",
       "96546  21531  A-P APPL 48/89 (COCKATOO CREEK), 49/89 (LORRAI...  ANNUAL   \n",
       "\n",
       "      RSTATUS                      AUTHOR LODGER                    SUBMITBY  \\\n",
       "9232        O                  KITCH, R B    NaN  BHP AUSTRALIA COAL PTY LTD   \n",
       "9546        O                 ROWLANDS, N    NaN      BHP GOLD MINES LIMITED   \n",
       "9614        O                     SMIT, R    NaN      BHP GOLD MINES LIMITED   \n",
       "9627        O                     SMIT, R    NaN        BHP MINERALS LIMITED   \n",
       "9637        O                     SMIT, R    NaN        BHP MINERALS LIMITED   \n",
       "...       ...                         ...    ...                         ...   \n",
       "96225       O  SHEPPARD, M J,KENNEDY, R J    NaN        BHP MINERALS LIMITED   \n",
       "96232       O                 HANDKE, R A    NaN        BHP MINERALS LIMITED   \n",
       "96266       O                   BENN, C J    NaN        BHP MINERALS LIMITED   \n",
       "96405       O                    KITCH, R    NaN        BHP MINERALS LIMITED   \n",
       "96546       O                     HAAS, L    NaN        BHP MINERALS LIMITED   \n",
       "\n",
       "                   LOCALITY                  MAPREF  \\\n",
       "9232         NW OF COOKTOWN              7768, 7769   \n",
       "9546            GYMPIE AREA        9346, 9345, 9445   \n",
       "9614        NNW OF CLERMONT              8353, 8354   \n",
       "9627      S OF MOUNT COOLON              8354, 8353   \n",
       "9637           W OF WARWICK                    9241   \n",
       "...                     ...                     ...   \n",
       "96225       EINASLEIGH AREA        7660, 7760, 7761   \n",
       "96232        NW OF COOKTOWN                    7769   \n",
       "96266      E OF ROCKHAMPTON              9050, 9051   \n",
       "96405        NW OF COOKTOWN              7768, 7769   \n",
       "96546  N & NE OF BLACKWATER  8652, 8651, 8750, 8751   \n",
       "\n",
       "                                                  TENURE    REPDATE    RECDATE  \n",
       "9232                                             EPC 463 1995-06-01 2006-08-03  \n",
       "9546                                            EPM 6031 1990-10-01 2003-11-28  \n",
       "9614                                            EPM 6988 1990-11-01 2003-11-28  \n",
       "9627                        EPM 6987, EPM 6990, EPM 7421 1990-11-01 2006-03-14  \n",
       "9637                                  EPM 6869, EPM 6903 1990-10-01 2006-04-13  \n",
       "...                                                  ...        ...        ...  \n",
       "96225                                 EPM 5899, EPM 6050 1991-03-01 2003-08-29  \n",
       "96232                                            EPC 463 1991-01-01 2006-06-26  \n",
       "96266                                 EPM 6959, EPM 7120 1991-06-01 2004-12-17  \n",
       "96405                                            EPC 463 1990-02-01 2006-06-30  \n",
       "96546  EPM 6974, EPM 6975, EPM 6976, EPM 6977, EPM 69... 1990-06-01 2006-06-29  \n",
       "\n",
       "[607 rows x 12 columns]"
      ]
     },
     "execution_count": 88,
     "metadata": {},
     "output_type": "execute_result"
    }
   ],
   "source": [
    "df"
   ]
  },
  {
   "cell_type": "code",
   "execution_count": 68,
   "metadata": {
    "scrolled": true
   },
   "outputs": [
    {
     "data": {
      "text/plain": [
       "REPNO                int32\n",
       "RTITLE              object\n",
       "RTYPE               object\n",
       "RSTATUS             object\n",
       "AUTHOR              object\n",
       "LODGER              object\n",
       "SUBMITBY            object\n",
       "LOCALITY            object\n",
       "MAPREF              object\n",
       "TENURE              object\n",
       "REPDATE     datetime64[ns]\n",
       "RECDATE     datetime64[ns]\n",
       "dtype: object"
      ]
     },
     "execution_count": 68,
     "metadata": {},
     "output_type": "execute_result"
    }
   ],
   "source": [
    "df.dtypes"
   ]
  },
  {
   "cell_type": "code",
   "execution_count": 93,
   "metadata": {},
   "outputs": [],
   "source": [
    "from datetime import timedelta, date\n",
    "\n",
    "def col2datetime(col):  # to stop to_datetime from converting 1900s to 2000s\n",
    "    df[col] = pd.to_datetime(df[col], dayfirst=True)\n",
    "    future = df[col] > pd.Timestamp(year=2020,month=1,day=1)\n",
    "    df.loc[future, col] -= timedelta(days=365.25*100)"
   ]
  },
  {
   "cell_type": "code",
   "execution_count": 94,
   "metadata": {},
   "outputs": [],
   "source": [
    "df.REPNO = df.REPNO.astype(int)\n",
    "col2datetime('REPDATE')\n",
    "col2datetime('RECDATE')"
   ]
  },
  {
   "cell_type": "code",
   "execution_count": 87,
   "metadata": {},
   "outputs": [],
   "source": [
    "cutoffdate = pd.Timestamp(1990, 1, 1)\n",
    "mask = df.REPDATE > cutoffdate\n",
    "df = df[mask]"
   ]
  },
  {
   "cell_type": "code",
   "execution_count": 81,
   "metadata": {},
   "outputs": [
    {
     "data": {
      "text/plain": [
       "[29762, 57315, 27958, 56552, 24526, 25755, 54191, 26526, 21895, 43458]"
      ]
     },
     "execution_count": 81,
     "metadata": {},
     "output_type": "execute_result"
    }
   ],
   "source": [
    "import random\n",
    "\n",
    "rs = random.sample(list(df.REPNO), 10)\n",
    "rs"
   ]
  },
  {
   "cell_type": "code",
   "execution_count": 82,
   "metadata": {},
   "outputs": [],
   "source": [
    "download_reports(rs, 'coal_sample/')"
   ]
  },
  {
   "cell_type": "code",
   "execution_count": 89,
   "metadata": {},
   "outputs": [],
   "source": [
    "df.to_excel(\"QDEX_reports_BHP.xlsx\")"
   ]
  },
  {
   "cell_type": "code",
   "execution_count": null,
   "metadata": {},
   "outputs": [],
   "source": [
    "import img2pdf \n",
    "\n"
   ]
  }
 ],
 "metadata": {
  "kernelspec": {
   "display_name": "Python 3",
   "language": "python",
   "name": "python3"
  },
  "language_info": {
   "codemirror_mode": {
    "name": "ipython",
    "version": 3
   },
   "file_extension": ".py",
   "mimetype": "text/x-python",
   "name": "python",
   "nbconvert_exporter": "python",
   "pygments_lexer": "ipython3",
   "version": "3.6.9"
  }
 },
 "nbformat": 4,
 "nbformat_minor": 2
}
